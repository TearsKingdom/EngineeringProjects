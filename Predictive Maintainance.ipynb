{
  "cells": [
    {
      "cell_type": "code",
      "execution_count": null,
      "metadata": {
        "colab": {
          "base_uri": "https://localhost:8080/"
        },
        "id": "HcHP2zA8dP2y",
        "outputId": "bba14ed3-c448-4f1e-9438-efe24929f232"
      },
      "outputs": [
        {
          "output_type": "stream",
          "name": "stdout",
          "text": [
            "Drive already mounted at /content/drive; to attempt to forcibly remount, call drive.mount(\"/content/drive\", force_remount=True).\n"
          ]
        }
      ],
      "source": [
        "import pandas as pd\n",
        "import numpy as np\n",
        "from datetime import datetime as dt\n",
        "import matplotlib.pyplot as plt\n",
        "from google.colab import drive\n",
        "drive.mount('/content/drive')"
      ]
    },
    {
      "cell_type": "code",
      "source": [
        "#Adolfo Arana Espíritu Santo\n",
        "#22/11/2022\n",
        "#El programa es una clase con la metodología estudiada en el libro Hands-On Machine Learning (el de la \n",
        "# salamandra). Abarca lo explicado en el capítulo 2, 3, 4 y 7\n",
        "#Con esta clase se espera sistematizar la seleciión del algoritmo\n",
        "#Se asume que los datos están listos para meterse al algoritmo seleccionado\n",
        "\n",
        "from sklearn.model_selection import train_test_split\n",
        "from sklearn.metrics import mean_squared_error\n",
        "import matplotlib.pyplot as plt\n",
        "import numpy as np\n",
        "from sklearn.model_selection import GridSearchCV\n",
        "import joblib\n",
        "from sklearn.model_selection import cross_val_score\n",
        "from sklearn.metrics import multilabel_confusion_matrix\n",
        "from sklearn.metrics import confusion_matrix\n",
        "from sklearn.ensemble import VotingClassifier\n",
        "from numpy.random import RandomState\n",
        "import pandas as pd\n",
        "\n",
        "class Algoritmo:\n",
        "    def __init__(self, model,X,y):\n",
        "        self.model = model #El modelo a utilizar para la predicción\n",
        "        self.X = X #Todos los atributos\n",
        "        self.y = y #Todos los targets\n",
        "        self.final_model = model\n",
        "\n",
        "    def particionDatos(self,r = 32, s = 0.2):\n",
        "        X_train, X_test, y_train, y_test = train_test_split(self.X, self.y, test_size = s, random_state = r, stratify = self.y)\n",
        "        #stratify lo dejamos en y porque así nos aseguramos de tener datasets balanceados según las distriucionesde las variables\n",
        "        return(X_train, X_test, y_train, y_test)\n",
        "    \n",
        "    def crossVal(self, X,y,k = 10, score = 'accuracy'):\n",
        "        #Hace cross-validation\n",
        "        scores = cross_val_score(self.model, X, y,scoring= score, cv=k) \n",
        "        #cv, además de formar los grupos, mantiene las proporciones del dataset\n",
        "        print(\"Mean: \", scores.mean(), \"\\nSDV: \", scores.std())\n",
        "    \n",
        "    def hpTunningGSCV(self,modelo,param_grid,X_train,y_train,X_test,name = 'modelo', CV = 10):\n",
        "        #Tuneamos modelo\n",
        "        grid_search = GridSearchCV(modelo, param_grid, cv=CV)\n",
        "        grid_search.fit(X_train, y_train)\n",
        "        print(grid_search.best_params_)\n",
        "        print(grid_search.best_estimator_)\n",
        "        self.final_model = grid_search.best_estimator_\n",
        "        joblib.dump(self.final_model, name +\".pkl\")\n",
        "        return(self.final_model.predict(X_test))\n",
        "    \n",
        "    def evaluacionClasificacionMulti(self,y_test, labs, final_pred):\n",
        "        #Matriz de confusión con múltiples categorías\n",
        "        a = multilabel_confusion_matrix(y_test, final_pred, labels = labs)\n",
        "        print(\"Matrices de confusión: \")\n",
        "        print(a)\n",
        "        final_prom_matrix = np.zeros((2,2))\n",
        "        final_prom_matrix[0,0] = np.round(np.mean(a[:,0,0])) #Media de True Negative\n",
        "        final_prom_matrix[0,1] = np.round(np.mean(a[:,0,1])) #Media de False Positive (se predijo que sí es pero no es)\n",
        "        final_prom_matrix[1,0] = np.round(np.mean(a[:,1,0])) #Media de False Negative (se predijo que no es pero sí es)\n",
        "        final_prom_matrix[1,1] = np.round(np.mean(a[:,1,1])) #Media de True Positive\n",
        "        print('Promedio de matrices de confusión: ')\n",
        "        print(final_prom_matrix)\n",
        "        self.graficaClasificacion(a,labs)\n",
        "    \n",
        "    def evaluacionClasificacion(self, y_test, final_pred, size = (10,10)):\n",
        "        #Matriz de confusión\n",
        "        a = confusion_matrix(y_test, final_pred)\n",
        "        print(\"Matriz de confusión\")\n",
        "        print(a)\n",
        "        precision = (a[0,0])/(a[0,0] + a[1,0])\n",
        "        recall = (a[0,0])/(a[0,0] + a[0,1])\n",
        "        calcs = [(a[0,0] + a[1,1])/(a[0,0] + a[0,1] + a[1,0] + a[1,1]),\n",
        "        precision,recall,(2*precision*recall)/(precision + recall)]\n",
        "        return(calcs)\n",
        "        \n",
        "    def graficaClasificacion(self,a,labs, size = (10,10)):\n",
        "        #Grafica matrices de confusión\n",
        "        fig, axs = plt.subplots(2, 2, figsize= size)\n",
        "        fig2, axs2 = plt.subplots(2, 2, figsize= size)\n",
        "        precision = (a[:,0,0])/(a[:,0,0] + a[:,1,0])\n",
        "        recall = (a[:,0,0])/(a[:,0,0] + a[:,0,1])\n",
        "        calcs = [(a[:,0,0] + a[:,1,1])/(a[:,0,0] + a[:,0,1] + a[:,1,0] + a[:,1,1]),\n",
        "        precision,recall,(2*precision*recall)/(precision + recall)]\n",
        "        index = 0\n",
        "        labels = [i for i in labs]\n",
        "        titles = [\"True Negative\", \"False Positive\", \n",
        "        \"False Negative\", \"True Positive\"]\n",
        "        titles2 = [\"Accuracy\", \"Precision\", \"Recall\", \"F1\"]\n",
        "        final_metrics = np.zeros((2,2))\n",
        "        for i in range(2):\n",
        "            for j in range(2):\n",
        "                axs[i,j].bar(labels, a[:,i,j])\n",
        "                axs2[i,j].bar(labels,calcs[index])\n",
        "                axs[i, j].set_title(titles[index])\n",
        "                axs2[i, j].set_title(titles2[index])\n",
        "                index += 1\n",
        "        final_metrics[0,0] = calcs[0].mean() \n",
        "        final_metrics[0,1] = precision.mean()\n",
        "        final_metrics[1,0] = recall.mean()\n",
        "        final_metrics[1,1] = calcs[3].mean()\n",
        "        print('Accuracy', '\\t', 'Recall')\n",
        "        print('Precision', '\\t', 'F1')\n",
        "        print(final_metrics)\n",
        "\n",
        "    def plot_learning_curves(self, X, y):\n",
        "        #Hands-on Machine Learning, cap.4\n",
        "        #Metric used: mean_squared_error for performance evaluation\n",
        "        model = self.model\n",
        "        X_train, X_val, y_train, y_val = train_test_split(X, y, test_size=0.2)\n",
        "        train_errors, val_errors = [], []\n",
        "        for m in range(1, len(X_train)):\n",
        "            model.fit(X_train[:m], y_train[:m])\n",
        "            y_train_predict = model.predict(X_train[:m])\n",
        "            y_val_predict = model.predict(X_val)\n",
        "            train_errors.append(mean_squared_error(y_train[:m], y_train_predict))\n",
        "            val_errors.append(mean_squared_error(y_val, y_val_predict))\n",
        "        plt.plot(np.sqrt(train_errors), \"r-+\", linewidth=2, label=\"train\")\n",
        "        plt.plot(np.sqrt(val_errors), \"b-\", linewidth=3, label=\"val\")\n",
        "\n",
        "    def votingEnsemble(self,est, X_train, y_train, vot = 'hard'):\n",
        "        #Capítulo 7\n",
        "        voting_clf = VotingClassifier(estimators=est,voting=vot)\n",
        "        voting_clf.fit(X_train, y_train)\n",
        "    \n",
        "    def separacionDatos(X,y, s= 0.5,r = 32):\n",
        "    #Aplica sólo para clasificación binaria\n",
        "    #X son todos los features, y todas las categorías, s indica qué porcentaje del total de\n",
        "    #las fallas (1) queremos tener en el train set, y r la semilla random, esto para garantizar la \n",
        "    #reproducibilidad\n",
        "\n",
        "\n",
        "        rs = RandomState(r) #Iniciamos semilla\n",
        "        index = y[y[y.columns[0]] == 1].index\n",
        "        c = round(len(index)*s) #Cuenta cuántos datos sacaremos con 1\n",
        "        cc = len(index) - c #Para dividir el set completo\n",
        "        ran_index = rs.choice(index, c) #Saca c índices de manera aleatoria de todos los que tienen y = 1\n",
        "\n",
        "        #Extraemos datos\n",
        "        X_train = X.filter(items = ran_index, axis = 0) \n",
        "        y_train = y.filter(items = ran_index, axis = 0)\n",
        "        ran_index = list(ran_index)\n",
        "\n",
        "        #Pasamos los que faltan al test\n",
        "        index1 = [i for i in list(index) if i not in ran_index]\n",
        "        X_test = X.filter(items = index1, axis = 0)\n",
        "        y_test = y.filter(items = index1, axis = 0)\n",
        "        X = X.drop(index)\n",
        "        y = y.drop(index)\n",
        "        \n",
        "        #Rellenamos las particiones\n",
        "        index = y[y[y.columns[0]] == 0].index\n",
        "        ran_index = rs.choice(index, cc) \n",
        "        X_train = pd.merge(X_train, X.filter(items = ran_index, axis = 0) , how = 'outer', on=list(X.columns))\n",
        "        y_train = pd.merge(y_train, y.filter(items = ran_index, axis = 0), how = 'outer', on=list(y.columns))\n",
        "        \n",
        "        ran_index = list(ran_index)\n",
        "        index1 = [i for i in list(index) if i not in ran_index]\n",
        "\n",
        "        X_test = pd.merge(X_test, X.filter(items = index1, axis = 0), how = 'outer', on=list(X.columns))\n",
        "        y_test = pd.merge(y_test, y.filter(items = index1, axis = 0), how = 'outer', on=list(y.columns))\n",
        "        return(pd.DataFrame(X_train), pd.DataFrame(X_test), pd.DataFrame(y_train).values.ravel(), pd.DataFrame(y_test).values.ravel())\n"
      ],
      "metadata": {
        "id": "bBRszHti2Pmp"
      },
      "execution_count": null,
      "outputs": []
    },
    {
      "cell_type": "code",
      "execution_count": null,
      "metadata": {
        "colab": {
          "base_uri": "https://localhost:8080/",
          "height": 424
        },
        "id": "quFAZIZQdP20",
        "outputId": "9a9ee625-63ed-4c48-81be-3548e3fb4381"
      },
      "outputs": [
        {
          "output_type": "execute_result",
          "data": {
            "text/plain": [
              "                                             Data Source  \\\n",
              "0      \\\\prod400azdb02\\Tec de Monterrey\\OPC UA 02\\HMI...   \n",
              "1      \\\\prod400azdb02\\Tec de Monterrey\\OPC UA 02\\HMI...   \n",
              "2      \\\\prod400azdb02\\Tec de Monterrey\\OPC UA 02\\HMI...   \n",
              "3      \\\\prod400azdb02\\Tec de Monterrey\\OPC UA 02\\HMI...   \n",
              "4      \\\\prod400azdb02\\Tec de Monterrey\\OPC UA 02\\HMI...   \n",
              "...                                                  ...   \n",
              "12480  \\\\prod400azdb02\\Tec de Monterrey\\OPC UA 02\\HMI...   \n",
              "12481  \\\\prod400azdb02\\Tec de Monterrey\\OPC UA 02\\HMI...   \n",
              "12482  \\\\prod400azdb02\\Tec de Monterrey\\OPC UA 02\\HMI...   \n",
              "12483  \\\\prod400azdb02\\Tec de Monterrey\\OPC UA 02\\HMI...   \n",
              "12484  \\\\prod400azdb02\\Tec de Monterrey\\OPC UA 02\\HMI...   \n",
              "\n",
              "                             Time         Value  \n",
              "0      2022-11-23 06:03:10.359009 -1.171580e+01  \n",
              "1      2022-11-23 06:03:11.572006 -1.171947e+01  \n",
              "2         2022-11-23 06:03:27.666 -1.171580e+01  \n",
              "3      2022-11-23 06:03:28.575012 -1.171947e+01  \n",
              "4      2022-11-23 06:03:37.681015 -1.171580e+01  \n",
              "...                           ...           ...  \n",
              "12480      2022-11-23 10:18:18.25  0.000000e+00  \n",
              "12481  2022-11-23 10:18:18.555008  9.757819e-20  \n",
              "12482   2022-11-23 10:16:26.96701  4.293441e-17  \n",
              "12483      2022-11-23 10:18:18.25  0.000000e+00  \n",
              "12484  2022-11-23 10:18:18.556015  4.293441e-17  \n",
              "\n",
              "[12485 rows x 3 columns]"
            ],
            "text/html": [
              "\n",
              "  <div id=\"df-d8c98455-ec79-420e-9302-8eff042ec929\">\n",
              "    <div class=\"colab-df-container\">\n",
              "      <div>\n",
              "<style scoped>\n",
              "    .dataframe tbody tr th:only-of-type {\n",
              "        vertical-align: middle;\n",
              "    }\n",
              "\n",
              "    .dataframe tbody tr th {\n",
              "        vertical-align: top;\n",
              "    }\n",
              "\n",
              "    .dataframe thead th {\n",
              "        text-align: right;\n",
              "    }\n",
              "</style>\n",
              "<table border=\"1\" class=\"dataframe\">\n",
              "  <thead>\n",
              "    <tr style=\"text-align: right;\">\n",
              "      <th></th>\n",
              "      <th>Data Source</th>\n",
              "      <th>Time</th>\n",
              "      <th>Value</th>\n",
              "    </tr>\n",
              "  </thead>\n",
              "  <tbody>\n",
              "    <tr>\n",
              "      <th>0</th>\n",
              "      <td>\\\\prod400azdb02\\Tec de Monterrey\\OPC UA 02\\HMI...</td>\n",
              "      <td>2022-11-23 06:03:10.359009</td>\n",
              "      <td>-1.171580e+01</td>\n",
              "    </tr>\n",
              "    <tr>\n",
              "      <th>1</th>\n",
              "      <td>\\\\prod400azdb02\\Tec de Monterrey\\OPC UA 02\\HMI...</td>\n",
              "      <td>2022-11-23 06:03:11.572006</td>\n",
              "      <td>-1.171947e+01</td>\n",
              "    </tr>\n",
              "    <tr>\n",
              "      <th>2</th>\n",
              "      <td>\\\\prod400azdb02\\Tec de Monterrey\\OPC UA 02\\HMI...</td>\n",
              "      <td>2022-11-23 06:03:27.666</td>\n",
              "      <td>-1.171580e+01</td>\n",
              "    </tr>\n",
              "    <tr>\n",
              "      <th>3</th>\n",
              "      <td>\\\\prod400azdb02\\Tec de Monterrey\\OPC UA 02\\HMI...</td>\n",
              "      <td>2022-11-23 06:03:28.575012</td>\n",
              "      <td>-1.171947e+01</td>\n",
              "    </tr>\n",
              "    <tr>\n",
              "      <th>4</th>\n",
              "      <td>\\\\prod400azdb02\\Tec de Monterrey\\OPC UA 02\\HMI...</td>\n",
              "      <td>2022-11-23 06:03:37.681015</td>\n",
              "      <td>-1.171580e+01</td>\n",
              "    </tr>\n",
              "    <tr>\n",
              "      <th>...</th>\n",
              "      <td>...</td>\n",
              "      <td>...</td>\n",
              "      <td>...</td>\n",
              "    </tr>\n",
              "    <tr>\n",
              "      <th>12480</th>\n",
              "      <td>\\\\prod400azdb02\\Tec de Monterrey\\OPC UA 02\\HMI...</td>\n",
              "      <td>2022-11-23 10:18:18.25</td>\n",
              "      <td>0.000000e+00</td>\n",
              "    </tr>\n",
              "    <tr>\n",
              "      <th>12481</th>\n",
              "      <td>\\\\prod400azdb02\\Tec de Monterrey\\OPC UA 02\\HMI...</td>\n",
              "      <td>2022-11-23 10:18:18.555008</td>\n",
              "      <td>9.757819e-20</td>\n",
              "    </tr>\n",
              "    <tr>\n",
              "      <th>12482</th>\n",
              "      <td>\\\\prod400azdb02\\Tec de Monterrey\\OPC UA 02\\HMI...</td>\n",
              "      <td>2022-11-23 10:16:26.96701</td>\n",
              "      <td>4.293441e-17</td>\n",
              "    </tr>\n",
              "    <tr>\n",
              "      <th>12483</th>\n",
              "      <td>\\\\prod400azdb02\\Tec de Monterrey\\OPC UA 02\\HMI...</td>\n",
              "      <td>2022-11-23 10:18:18.25</td>\n",
              "      <td>0.000000e+00</td>\n",
              "    </tr>\n",
              "    <tr>\n",
              "      <th>12484</th>\n",
              "      <td>\\\\prod400azdb02\\Tec de Monterrey\\OPC UA 02\\HMI...</td>\n",
              "      <td>2022-11-23 10:18:18.556015</td>\n",
              "      <td>4.293441e-17</td>\n",
              "    </tr>\n",
              "  </tbody>\n",
              "</table>\n",
              "<p>12485 rows × 3 columns</p>\n",
              "</div>\n",
              "      <button class=\"colab-df-convert\" onclick=\"convertToInteractive('df-d8c98455-ec79-420e-9302-8eff042ec929')\"\n",
              "              title=\"Convert this dataframe to an interactive table.\"\n",
              "              style=\"display:none;\">\n",
              "        \n",
              "  <svg xmlns=\"http://www.w3.org/2000/svg\" height=\"24px\"viewBox=\"0 0 24 24\"\n",
              "       width=\"24px\">\n",
              "    <path d=\"M0 0h24v24H0V0z\" fill=\"none\"/>\n",
              "    <path d=\"M18.56 5.44l.94 2.06.94-2.06 2.06-.94-2.06-.94-.94-2.06-.94 2.06-2.06.94zm-11 1L8.5 8.5l.94-2.06 2.06-.94-2.06-.94L8.5 2.5l-.94 2.06-2.06.94zm10 10l.94 2.06.94-2.06 2.06-.94-2.06-.94-.94-2.06-.94 2.06-2.06.94z\"/><path d=\"M17.41 7.96l-1.37-1.37c-.4-.4-.92-.59-1.43-.59-.52 0-1.04.2-1.43.59L10.3 9.45l-7.72 7.72c-.78.78-.78 2.05 0 2.83L4 21.41c.39.39.9.59 1.41.59.51 0 1.02-.2 1.41-.59l7.78-7.78 2.81-2.81c.8-.78.8-2.07 0-2.86zM5.41 20L4 18.59l7.72-7.72 1.47 1.35L5.41 20z\"/>\n",
              "  </svg>\n",
              "      </button>\n",
              "      \n",
              "  <style>\n",
              "    .colab-df-container {\n",
              "      display:flex;\n",
              "      flex-wrap:wrap;\n",
              "      gap: 12px;\n",
              "    }\n",
              "\n",
              "    .colab-df-convert {\n",
              "      background-color: #E8F0FE;\n",
              "      border: none;\n",
              "      border-radius: 50%;\n",
              "      cursor: pointer;\n",
              "      display: none;\n",
              "      fill: #1967D2;\n",
              "      height: 32px;\n",
              "      padding: 0 0 0 0;\n",
              "      width: 32px;\n",
              "    }\n",
              "\n",
              "    .colab-df-convert:hover {\n",
              "      background-color: #E2EBFA;\n",
              "      box-shadow: 0px 1px 2px rgba(60, 64, 67, 0.3), 0px 1px 3px 1px rgba(60, 64, 67, 0.15);\n",
              "      fill: #174EA6;\n",
              "    }\n",
              "\n",
              "    [theme=dark] .colab-df-convert {\n",
              "      background-color: #3B4455;\n",
              "      fill: #D2E3FC;\n",
              "    }\n",
              "\n",
              "    [theme=dark] .colab-df-convert:hover {\n",
              "      background-color: #434B5C;\n",
              "      box-shadow: 0px 1px 3px 1px rgba(0, 0, 0, 0.15);\n",
              "      filter: drop-shadow(0px 1px 2px rgba(0, 0, 0, 0.3));\n",
              "      fill: #FFFFFF;\n",
              "    }\n",
              "  </style>\n",
              "\n",
              "      <script>\n",
              "        const buttonEl =\n",
              "          document.querySelector('#df-d8c98455-ec79-420e-9302-8eff042ec929 button.colab-df-convert');\n",
              "        buttonEl.style.display =\n",
              "          google.colab.kernel.accessAllowed ? 'block' : 'none';\n",
              "\n",
              "        async function convertToInteractive(key) {\n",
              "          const element = document.querySelector('#df-d8c98455-ec79-420e-9302-8eff042ec929');\n",
              "          const dataTable =\n",
              "            await google.colab.kernel.invokeFunction('convertToInteractive',\n",
              "                                                     [key], {});\n",
              "          if (!dataTable) return;\n",
              "\n",
              "          const docLinkHtml = 'Like what you see? Visit the ' +\n",
              "            '<a target=\"_blank\" href=https://colab.research.google.com/notebooks/data_table.ipynb>data table notebook</a>'\n",
              "            + ' to learn more about interactive tables.';\n",
              "          element.innerHTML = '';\n",
              "          dataTable['output_type'] = 'display_data';\n",
              "          await google.colab.output.renderOutput(dataTable, element);\n",
              "          const docLink = document.createElement('div');\n",
              "          docLink.innerHTML = docLinkHtml;\n",
              "          element.appendChild(docLink);\n",
              "        }\n",
              "      </script>\n",
              "    </div>\n",
              "  </div>\n",
              "  "
            ]
          },
          "metadata": {},
          "execution_count": 43
        }
      ],
      "source": [
        "df = pd.read_csv('/content/drive/MyDrive/Colab Notebooks/Hora/Mantenimiento_Predictivo (2).csv')\n",
        "for i in range(3,7):\n",
        "    df1 = pd.read_csv('/content/drive/MyDrive/Colab Notebooks/Hora/Mantenimiento_Predictivo (' + str(i) +').csv')\n",
        "    df = pd.merge(df, df1, how=\"outer\", on=list(df.columns))\n",
        "df"
      ]
    },
    {
      "cell_type": "code",
      "source": [
        "df.info()"
      ],
      "metadata": {
        "colab": {
          "base_uri": "https://localhost:8080/"
        },
        "id": "76Sf0aRCgdtt",
        "outputId": "a5cf2c2a-47aa-4de9-a3e6-1dd1181b99f0"
      },
      "execution_count": null,
      "outputs": [
        {
          "output_type": "stream",
          "name": "stdout",
          "text": [
            "<class 'pandas.core.frame.DataFrame'>\n",
            "Int64Index: 12485 entries, 0 to 12484\n",
            "Data columns (total 3 columns):\n",
            " #   Column       Non-Null Count  Dtype  \n",
            "---  ------       --------------  -----  \n",
            " 0   Data Source  12485 non-null  object \n",
            " 1   Time         12485 non-null  object \n",
            " 2   Value        12485 non-null  float64\n",
            "dtypes: float64(1), object(2)\n",
            "memory usage: 390.2+ KB\n"
          ]
        }
      ]
    },
    {
      "cell_type": "code",
      "execution_count": null,
      "metadata": {
        "colab": {
          "base_uri": "https://localhost:8080/",
          "height": 424
        },
        "id": "VZHQSnlHdP22",
        "outputId": "69dafd85-0c6f-499d-924f-3a34d8a74c13"
      },
      "outputs": [
        {
          "output_type": "execute_result",
          "data": {
            "text/plain": [
              "             Data Source              Time         Value\n",
              "0        Frecuencia_Real  2022-11-23 06:03 -1.171580e+01\n",
              "1        Frecuencia_Real  2022-11-23 06:03 -1.171947e+01\n",
              "2        Frecuencia_Real  2022-11-23 06:03 -1.171580e+01\n",
              "3        Frecuencia_Real  2022-11-23 06:03 -1.171947e+01\n",
              "4        Frecuencia_Real  2022-11-23 06:03 -1.171580e+01\n",
              "...                  ...               ...           ...\n",
              "12480  Corriente_X_Motor  2022-11-23 10:18  0.000000e+00\n",
              "12481  Corriente_X_Motor  2022-11-23 10:18  9.757819e-20\n",
              "12482           Potencia  2022-11-23 10:16  4.293441e-17\n",
              "12483           Potencia  2022-11-23 10:18  0.000000e+00\n",
              "12484           Potencia  2022-11-23 10:18  4.293441e-17\n",
              "\n",
              "[12485 rows x 3 columns]"
            ],
            "text/html": [
              "\n",
              "  <div id=\"df-9e1cf125-1b55-4ad3-a3a0-9c4e06266117\">\n",
              "    <div class=\"colab-df-container\">\n",
              "      <div>\n",
              "<style scoped>\n",
              "    .dataframe tbody tr th:only-of-type {\n",
              "        vertical-align: middle;\n",
              "    }\n",
              "\n",
              "    .dataframe tbody tr th {\n",
              "        vertical-align: top;\n",
              "    }\n",
              "\n",
              "    .dataframe thead th {\n",
              "        text-align: right;\n",
              "    }\n",
              "</style>\n",
              "<table border=\"1\" class=\"dataframe\">\n",
              "  <thead>\n",
              "    <tr style=\"text-align: right;\">\n",
              "      <th></th>\n",
              "      <th>Data Source</th>\n",
              "      <th>Time</th>\n",
              "      <th>Value</th>\n",
              "    </tr>\n",
              "  </thead>\n",
              "  <tbody>\n",
              "    <tr>\n",
              "      <th>0</th>\n",
              "      <td>Frecuencia_Real</td>\n",
              "      <td>2022-11-23 06:03</td>\n",
              "      <td>-1.171580e+01</td>\n",
              "    </tr>\n",
              "    <tr>\n",
              "      <th>1</th>\n",
              "      <td>Frecuencia_Real</td>\n",
              "      <td>2022-11-23 06:03</td>\n",
              "      <td>-1.171947e+01</td>\n",
              "    </tr>\n",
              "    <tr>\n",
              "      <th>2</th>\n",
              "      <td>Frecuencia_Real</td>\n",
              "      <td>2022-11-23 06:03</td>\n",
              "      <td>-1.171580e+01</td>\n",
              "    </tr>\n",
              "    <tr>\n",
              "      <th>3</th>\n",
              "      <td>Frecuencia_Real</td>\n",
              "      <td>2022-11-23 06:03</td>\n",
              "      <td>-1.171947e+01</td>\n",
              "    </tr>\n",
              "    <tr>\n",
              "      <th>4</th>\n",
              "      <td>Frecuencia_Real</td>\n",
              "      <td>2022-11-23 06:03</td>\n",
              "      <td>-1.171580e+01</td>\n",
              "    </tr>\n",
              "    <tr>\n",
              "      <th>...</th>\n",
              "      <td>...</td>\n",
              "      <td>...</td>\n",
              "      <td>...</td>\n",
              "    </tr>\n",
              "    <tr>\n",
              "      <th>12480</th>\n",
              "      <td>Corriente_X_Motor</td>\n",
              "      <td>2022-11-23 10:18</td>\n",
              "      <td>0.000000e+00</td>\n",
              "    </tr>\n",
              "    <tr>\n",
              "      <th>12481</th>\n",
              "      <td>Corriente_X_Motor</td>\n",
              "      <td>2022-11-23 10:18</td>\n",
              "      <td>9.757819e-20</td>\n",
              "    </tr>\n",
              "    <tr>\n",
              "      <th>12482</th>\n",
              "      <td>Potencia</td>\n",
              "      <td>2022-11-23 10:16</td>\n",
              "      <td>4.293441e-17</td>\n",
              "    </tr>\n",
              "    <tr>\n",
              "      <th>12483</th>\n",
              "      <td>Potencia</td>\n",
              "      <td>2022-11-23 10:18</td>\n",
              "      <td>0.000000e+00</td>\n",
              "    </tr>\n",
              "    <tr>\n",
              "      <th>12484</th>\n",
              "      <td>Potencia</td>\n",
              "      <td>2022-11-23 10:18</td>\n",
              "      <td>4.293441e-17</td>\n",
              "    </tr>\n",
              "  </tbody>\n",
              "</table>\n",
              "<p>12485 rows × 3 columns</p>\n",
              "</div>\n",
              "      <button class=\"colab-df-convert\" onclick=\"convertToInteractive('df-9e1cf125-1b55-4ad3-a3a0-9c4e06266117')\"\n",
              "              title=\"Convert this dataframe to an interactive table.\"\n",
              "              style=\"display:none;\">\n",
              "        \n",
              "  <svg xmlns=\"http://www.w3.org/2000/svg\" height=\"24px\"viewBox=\"0 0 24 24\"\n",
              "       width=\"24px\">\n",
              "    <path d=\"M0 0h24v24H0V0z\" fill=\"none\"/>\n",
              "    <path d=\"M18.56 5.44l.94 2.06.94-2.06 2.06-.94-2.06-.94-.94-2.06-.94 2.06-2.06.94zm-11 1L8.5 8.5l.94-2.06 2.06-.94-2.06-.94L8.5 2.5l-.94 2.06-2.06.94zm10 10l.94 2.06.94-2.06 2.06-.94-2.06-.94-.94-2.06-.94 2.06-2.06.94z\"/><path d=\"M17.41 7.96l-1.37-1.37c-.4-.4-.92-.59-1.43-.59-.52 0-1.04.2-1.43.59L10.3 9.45l-7.72 7.72c-.78.78-.78 2.05 0 2.83L4 21.41c.39.39.9.59 1.41.59.51 0 1.02-.2 1.41-.59l7.78-7.78 2.81-2.81c.8-.78.8-2.07 0-2.86zM5.41 20L4 18.59l7.72-7.72 1.47 1.35L5.41 20z\"/>\n",
              "  </svg>\n",
              "      </button>\n",
              "      \n",
              "  <style>\n",
              "    .colab-df-container {\n",
              "      display:flex;\n",
              "      flex-wrap:wrap;\n",
              "      gap: 12px;\n",
              "    }\n",
              "\n",
              "    .colab-df-convert {\n",
              "      background-color: #E8F0FE;\n",
              "      border: none;\n",
              "      border-radius: 50%;\n",
              "      cursor: pointer;\n",
              "      display: none;\n",
              "      fill: #1967D2;\n",
              "      height: 32px;\n",
              "      padding: 0 0 0 0;\n",
              "      width: 32px;\n",
              "    }\n",
              "\n",
              "    .colab-df-convert:hover {\n",
              "      background-color: #E2EBFA;\n",
              "      box-shadow: 0px 1px 2px rgba(60, 64, 67, 0.3), 0px 1px 3px 1px rgba(60, 64, 67, 0.15);\n",
              "      fill: #174EA6;\n",
              "    }\n",
              "\n",
              "    [theme=dark] .colab-df-convert {\n",
              "      background-color: #3B4455;\n",
              "      fill: #D2E3FC;\n",
              "    }\n",
              "\n",
              "    [theme=dark] .colab-df-convert:hover {\n",
              "      background-color: #434B5C;\n",
              "      box-shadow: 0px 1px 3px 1px rgba(0, 0, 0, 0.15);\n",
              "      filter: drop-shadow(0px 1px 2px rgba(0, 0, 0, 0.3));\n",
              "      fill: #FFFFFF;\n",
              "    }\n",
              "  </style>\n",
              "\n",
              "      <script>\n",
              "        const buttonEl =\n",
              "          document.querySelector('#df-9e1cf125-1b55-4ad3-a3a0-9c4e06266117 button.colab-df-convert');\n",
              "        buttonEl.style.display =\n",
              "          google.colab.kernel.accessAllowed ? 'block' : 'none';\n",
              "\n",
              "        async function convertToInteractive(key) {\n",
              "          const element = document.querySelector('#df-9e1cf125-1b55-4ad3-a3a0-9c4e06266117');\n",
              "          const dataTable =\n",
              "            await google.colab.kernel.invokeFunction('convertToInteractive',\n",
              "                                                     [key], {});\n",
              "          if (!dataTable) return;\n",
              "\n",
              "          const docLinkHtml = 'Like what you see? Visit the ' +\n",
              "            '<a target=\"_blank\" href=https://colab.research.google.com/notebooks/data_table.ipynb>data table notebook</a>'\n",
              "            + ' to learn more about interactive tables.';\n",
              "          element.innerHTML = '';\n",
              "          dataTable['output_type'] = 'display_data';\n",
              "          await google.colab.output.renderOutput(dataTable, element);\n",
              "          const docLink = document.createElement('div');\n",
              "          docLink.innerHTML = docLinkHtml;\n",
              "          element.appendChild(docLink);\n",
              "        }\n",
              "      </script>\n",
              "    </div>\n",
              "  </div>\n",
              "  "
            ]
          },
          "metadata": {},
          "execution_count": 45
        }
      ],
      "source": [
        "df[\"Data Source\"] = df[\"Data Source\"].apply(lambda x: x[x.rfind('|')+1:]) #Optimizado\n",
        "df[\"Time\"] = df[\"Time\"].apply(lambda x: x[0:x.rfind('.')-3]) #Filtro hasta minutos\n",
        "df"
      ]
    },
    {
      "cell_type": "code",
      "execution_count": null,
      "metadata": {
        "colab": {
          "base_uri": "https://localhost:8080/",
          "height": 133
        },
        "id": "NRPXj9OwdP22",
        "outputId": "ea064e79-226c-4d4c-f381-ef36c2c0e5cf"
      },
      "outputs": [
        {
          "output_type": "stream",
          "name": "stdout",
          "text": [
            "2022-11-23 06:03\n",
            "29\n",
            "12485\n"
          ]
        },
        {
          "output_type": "execute_result",
          "data": {
            "text/plain": [
              "                index  Time\n",
              "181  2022-11-23 06:03    29"
            ],
            "text/html": [
              "\n",
              "  <div id=\"df-345514fe-0b65-4a6b-b958-56c2cdbebacd\">\n",
              "    <div class=\"colab-df-container\">\n",
              "      <div>\n",
              "<style scoped>\n",
              "    .dataframe tbody tr th:only-of-type {\n",
              "        vertical-align: middle;\n",
              "    }\n",
              "\n",
              "    .dataframe tbody tr th {\n",
              "        vertical-align: top;\n",
              "    }\n",
              "\n",
              "    .dataframe thead th {\n",
              "        text-align: right;\n",
              "    }\n",
              "</style>\n",
              "<table border=\"1\" class=\"dataframe\">\n",
              "  <thead>\n",
              "    <tr style=\"text-align: right;\">\n",
              "      <th></th>\n",
              "      <th>index</th>\n",
              "      <th>Time</th>\n",
              "    </tr>\n",
              "  </thead>\n",
              "  <tbody>\n",
              "    <tr>\n",
              "      <th>181</th>\n",
              "      <td>2022-11-23 06:03</td>\n",
              "      <td>29</td>\n",
              "    </tr>\n",
              "  </tbody>\n",
              "</table>\n",
              "</div>\n",
              "      <button class=\"colab-df-convert\" onclick=\"convertToInteractive('df-345514fe-0b65-4a6b-b958-56c2cdbebacd')\"\n",
              "              title=\"Convert this dataframe to an interactive table.\"\n",
              "              style=\"display:none;\">\n",
              "        \n",
              "  <svg xmlns=\"http://www.w3.org/2000/svg\" height=\"24px\"viewBox=\"0 0 24 24\"\n",
              "       width=\"24px\">\n",
              "    <path d=\"M0 0h24v24H0V0z\" fill=\"none\"/>\n",
              "    <path d=\"M18.56 5.44l.94 2.06.94-2.06 2.06-.94-2.06-.94-.94-2.06-.94 2.06-2.06.94zm-11 1L8.5 8.5l.94-2.06 2.06-.94-2.06-.94L8.5 2.5l-.94 2.06-2.06.94zm10 10l.94 2.06.94-2.06 2.06-.94-2.06-.94-.94-2.06-.94 2.06-2.06.94z\"/><path d=\"M17.41 7.96l-1.37-1.37c-.4-.4-.92-.59-1.43-.59-.52 0-1.04.2-1.43.59L10.3 9.45l-7.72 7.72c-.78.78-.78 2.05 0 2.83L4 21.41c.39.39.9.59 1.41.59.51 0 1.02-.2 1.41-.59l7.78-7.78 2.81-2.81c.8-.78.8-2.07 0-2.86zM5.41 20L4 18.59l7.72-7.72 1.47 1.35L5.41 20z\"/>\n",
              "  </svg>\n",
              "      </button>\n",
              "      \n",
              "  <style>\n",
              "    .colab-df-container {\n",
              "      display:flex;\n",
              "      flex-wrap:wrap;\n",
              "      gap: 12px;\n",
              "    }\n",
              "\n",
              "    .colab-df-convert {\n",
              "      background-color: #E8F0FE;\n",
              "      border: none;\n",
              "      border-radius: 50%;\n",
              "      cursor: pointer;\n",
              "      display: none;\n",
              "      fill: #1967D2;\n",
              "      height: 32px;\n",
              "      padding: 0 0 0 0;\n",
              "      width: 32px;\n",
              "    }\n",
              "\n",
              "    .colab-df-convert:hover {\n",
              "      background-color: #E2EBFA;\n",
              "      box-shadow: 0px 1px 2px rgba(60, 64, 67, 0.3), 0px 1px 3px 1px rgba(60, 64, 67, 0.15);\n",
              "      fill: #174EA6;\n",
              "    }\n",
              "\n",
              "    [theme=dark] .colab-df-convert {\n",
              "      background-color: #3B4455;\n",
              "      fill: #D2E3FC;\n",
              "    }\n",
              "\n",
              "    [theme=dark] .colab-df-convert:hover {\n",
              "      background-color: #434B5C;\n",
              "      box-shadow: 0px 1px 3px 1px rgba(0, 0, 0, 0.15);\n",
              "      filter: drop-shadow(0px 1px 2px rgba(0, 0, 0, 0.3));\n",
              "      fill: #FFFFFF;\n",
              "    }\n",
              "  </style>\n",
              "\n",
              "      <script>\n",
              "        const buttonEl =\n",
              "          document.querySelector('#df-345514fe-0b65-4a6b-b958-56c2cdbebacd button.colab-df-convert');\n",
              "        buttonEl.style.display =\n",
              "          google.colab.kernel.accessAllowed ? 'block' : 'none';\n",
              "\n",
              "        async function convertToInteractive(key) {\n",
              "          const element = document.querySelector('#df-345514fe-0b65-4a6b-b958-56c2cdbebacd');\n",
              "          const dataTable =\n",
              "            await google.colab.kernel.invokeFunction('convertToInteractive',\n",
              "                                                     [key], {});\n",
              "          if (!dataTable) return;\n",
              "\n",
              "          const docLinkHtml = 'Like what you see? Visit the ' +\n",
              "            '<a target=\"_blank\" href=https://colab.research.google.com/notebooks/data_table.ipynb>data table notebook</a>'\n",
              "            + ' to learn more about interactive tables.';\n",
              "          element.innerHTML = '';\n",
              "          dataTable['output_type'] = 'display_data';\n",
              "          await google.colab.output.renderOutput(dataTable, element);\n",
              "          const docLink = document.createElement('div');\n",
              "          docLink.innerHTML = docLinkHtml;\n",
              "          element.appendChild(docLink);\n",
              "        }\n",
              "      </script>\n",
              "    </div>\n",
              "  </div>\n",
              "  "
            ]
          },
          "metadata": {},
          "execution_count": 46
        }
      ],
      "source": [
        "times = df[\"Time\"].unique()\n",
        "print(times[0])\n",
        "print(sum(np.array(df.Time) == times[0]))\n",
        "df2 = pd.DataFrame(df.Time.value_counts())\n",
        "df2 = df2.reset_index()\n",
        "print(np.sum(df2.Time))\n",
        "df2[df2[\"index\"] == times[0]]"
      ]
    },
    {
      "cell_type": "code",
      "execution_count": null,
      "metadata": {
        "colab": {
          "base_uri": "https://localhost:8080/",
          "height": 424
        },
        "id": "jrD7BR-ZdP23",
        "outputId": "6e292e18-d77f-4b2c-8e89-097c23739a78"
      },
      "outputs": [
        {
          "output_type": "execute_result",
          "data": {
            "text/plain": [
              "            Timestamp  Frecuencia_Real  CurrentC1  Corriente_X_Motor  Potencia\n",
              "0    2022-11-23 06:03       -11.717634   2.387277                NaN       NaN\n",
              "1    2022-11-23 06:04       -11.717634   2.386957                NaN       NaN\n",
              "2    2022-11-23 06:05       -11.717634   2.386875                NaN       NaN\n",
              "3    2022-11-23 06:08       -11.717634   2.387250                NaN       NaN\n",
              "4    2022-11-23 06:09       -11.717634   2.386470                NaN       NaN\n",
              "..                ...              ...        ...                ...       ...\n",
              "226  2022-11-23 10:58              NaN   2.400670                NaN       NaN\n",
              "227  2022-11-23 10:59              NaN   2.397656                NaN       NaN\n",
              "228  2022-11-23 11:00              NaN   2.398711                NaN       NaN\n",
              "229   2022-11-23 11:0              NaN   2.397656                NaN       NaN\n",
              "230  2022-11-23 11:01              NaN   2.394141                NaN       NaN\n",
              "\n",
              "[231 rows x 5 columns]"
            ],
            "text/html": [
              "\n",
              "  <div id=\"df-47cbd2bc-e3ed-49be-90c7-49fb0eef3792\">\n",
              "    <div class=\"colab-df-container\">\n",
              "      <div>\n",
              "<style scoped>\n",
              "    .dataframe tbody tr th:only-of-type {\n",
              "        vertical-align: middle;\n",
              "    }\n",
              "\n",
              "    .dataframe tbody tr th {\n",
              "        vertical-align: top;\n",
              "    }\n",
              "\n",
              "    .dataframe thead th {\n",
              "        text-align: right;\n",
              "    }\n",
              "</style>\n",
              "<table border=\"1\" class=\"dataframe\">\n",
              "  <thead>\n",
              "    <tr style=\"text-align: right;\">\n",
              "      <th></th>\n",
              "      <th>Timestamp</th>\n",
              "      <th>Frecuencia_Real</th>\n",
              "      <th>CurrentC1</th>\n",
              "      <th>Corriente_X_Motor</th>\n",
              "      <th>Potencia</th>\n",
              "    </tr>\n",
              "  </thead>\n",
              "  <tbody>\n",
              "    <tr>\n",
              "      <th>0</th>\n",
              "      <td>2022-11-23 06:03</td>\n",
              "      <td>-11.717634</td>\n",
              "      <td>2.387277</td>\n",
              "      <td>NaN</td>\n",
              "      <td>NaN</td>\n",
              "    </tr>\n",
              "    <tr>\n",
              "      <th>1</th>\n",
              "      <td>2022-11-23 06:04</td>\n",
              "      <td>-11.717634</td>\n",
              "      <td>2.386957</td>\n",
              "      <td>NaN</td>\n",
              "      <td>NaN</td>\n",
              "    </tr>\n",
              "    <tr>\n",
              "      <th>2</th>\n",
              "      <td>2022-11-23 06:05</td>\n",
              "      <td>-11.717634</td>\n",
              "      <td>2.386875</td>\n",
              "      <td>NaN</td>\n",
              "      <td>NaN</td>\n",
              "    </tr>\n",
              "    <tr>\n",
              "      <th>3</th>\n",
              "      <td>2022-11-23 06:08</td>\n",
              "      <td>-11.717634</td>\n",
              "      <td>2.387250</td>\n",
              "      <td>NaN</td>\n",
              "      <td>NaN</td>\n",
              "    </tr>\n",
              "    <tr>\n",
              "      <th>4</th>\n",
              "      <td>2022-11-23 06:09</td>\n",
              "      <td>-11.717634</td>\n",
              "      <td>2.386470</td>\n",
              "      <td>NaN</td>\n",
              "      <td>NaN</td>\n",
              "    </tr>\n",
              "    <tr>\n",
              "      <th>...</th>\n",
              "      <td>...</td>\n",
              "      <td>...</td>\n",
              "      <td>...</td>\n",
              "      <td>...</td>\n",
              "      <td>...</td>\n",
              "    </tr>\n",
              "    <tr>\n",
              "      <th>226</th>\n",
              "      <td>2022-11-23 10:58</td>\n",
              "      <td>NaN</td>\n",
              "      <td>2.400670</td>\n",
              "      <td>NaN</td>\n",
              "      <td>NaN</td>\n",
              "    </tr>\n",
              "    <tr>\n",
              "      <th>227</th>\n",
              "      <td>2022-11-23 10:59</td>\n",
              "      <td>NaN</td>\n",
              "      <td>2.397656</td>\n",
              "      <td>NaN</td>\n",
              "      <td>NaN</td>\n",
              "    </tr>\n",
              "    <tr>\n",
              "      <th>228</th>\n",
              "      <td>2022-11-23 11:00</td>\n",
              "      <td>NaN</td>\n",
              "      <td>2.398711</td>\n",
              "      <td>NaN</td>\n",
              "      <td>NaN</td>\n",
              "    </tr>\n",
              "    <tr>\n",
              "      <th>229</th>\n",
              "      <td>2022-11-23 11:0</td>\n",
              "      <td>NaN</td>\n",
              "      <td>2.397656</td>\n",
              "      <td>NaN</td>\n",
              "      <td>NaN</td>\n",
              "    </tr>\n",
              "    <tr>\n",
              "      <th>230</th>\n",
              "      <td>2022-11-23 11:01</td>\n",
              "      <td>NaN</td>\n",
              "      <td>2.394141</td>\n",
              "      <td>NaN</td>\n",
              "      <td>NaN</td>\n",
              "    </tr>\n",
              "  </tbody>\n",
              "</table>\n",
              "<p>231 rows × 5 columns</p>\n",
              "</div>\n",
              "      <button class=\"colab-df-convert\" onclick=\"convertToInteractive('df-47cbd2bc-e3ed-49be-90c7-49fb0eef3792')\"\n",
              "              title=\"Convert this dataframe to an interactive table.\"\n",
              "              style=\"display:none;\">\n",
              "        \n",
              "  <svg xmlns=\"http://www.w3.org/2000/svg\" height=\"24px\"viewBox=\"0 0 24 24\"\n",
              "       width=\"24px\">\n",
              "    <path d=\"M0 0h24v24H0V0z\" fill=\"none\"/>\n",
              "    <path d=\"M18.56 5.44l.94 2.06.94-2.06 2.06-.94-2.06-.94-.94-2.06-.94 2.06-2.06.94zm-11 1L8.5 8.5l.94-2.06 2.06-.94-2.06-.94L8.5 2.5l-.94 2.06-2.06.94zm10 10l.94 2.06.94-2.06 2.06-.94-2.06-.94-.94-2.06-.94 2.06-2.06.94z\"/><path d=\"M17.41 7.96l-1.37-1.37c-.4-.4-.92-.59-1.43-.59-.52 0-1.04.2-1.43.59L10.3 9.45l-7.72 7.72c-.78.78-.78 2.05 0 2.83L4 21.41c.39.39.9.59 1.41.59.51 0 1.02-.2 1.41-.59l7.78-7.78 2.81-2.81c.8-.78.8-2.07 0-2.86zM5.41 20L4 18.59l7.72-7.72 1.47 1.35L5.41 20z\"/>\n",
              "  </svg>\n",
              "      </button>\n",
              "      \n",
              "  <style>\n",
              "    .colab-df-container {\n",
              "      display:flex;\n",
              "      flex-wrap:wrap;\n",
              "      gap: 12px;\n",
              "    }\n",
              "\n",
              "    .colab-df-convert {\n",
              "      background-color: #E8F0FE;\n",
              "      border: none;\n",
              "      border-radius: 50%;\n",
              "      cursor: pointer;\n",
              "      display: none;\n",
              "      fill: #1967D2;\n",
              "      height: 32px;\n",
              "      padding: 0 0 0 0;\n",
              "      width: 32px;\n",
              "    }\n",
              "\n",
              "    .colab-df-convert:hover {\n",
              "      background-color: #E2EBFA;\n",
              "      box-shadow: 0px 1px 2px rgba(60, 64, 67, 0.3), 0px 1px 3px 1px rgba(60, 64, 67, 0.15);\n",
              "      fill: #174EA6;\n",
              "    }\n",
              "\n",
              "    [theme=dark] .colab-df-convert {\n",
              "      background-color: #3B4455;\n",
              "      fill: #D2E3FC;\n",
              "    }\n",
              "\n",
              "    [theme=dark] .colab-df-convert:hover {\n",
              "      background-color: #434B5C;\n",
              "      box-shadow: 0px 1px 3px 1px rgba(0, 0, 0, 0.15);\n",
              "      filter: drop-shadow(0px 1px 2px rgba(0, 0, 0, 0.3));\n",
              "      fill: #FFFFFF;\n",
              "    }\n",
              "  </style>\n",
              "\n",
              "      <script>\n",
              "        const buttonEl =\n",
              "          document.querySelector('#df-47cbd2bc-e3ed-49be-90c7-49fb0eef3792 button.colab-df-convert');\n",
              "        buttonEl.style.display =\n",
              "          google.colab.kernel.accessAllowed ? 'block' : 'none';\n",
              "\n",
              "        async function convertToInteractive(key) {\n",
              "          const element = document.querySelector('#df-47cbd2bc-e3ed-49be-90c7-49fb0eef3792');\n",
              "          const dataTable =\n",
              "            await google.colab.kernel.invokeFunction('convertToInteractive',\n",
              "                                                     [key], {});\n",
              "          if (!dataTable) return;\n",
              "\n",
              "          const docLinkHtml = 'Like what you see? Visit the ' +\n",
              "            '<a target=\"_blank\" href=https://colab.research.google.com/notebooks/data_table.ipynb>data table notebook</a>'\n",
              "            + ' to learn more about interactive tables.';\n",
              "          element.innerHTML = '';\n",
              "          dataTable['output_type'] = 'display_data';\n",
              "          await google.colab.output.renderOutput(dataTable, element);\n",
              "          const docLink = document.createElement('div');\n",
              "          docLink.innerHTML = docLinkHtml;\n",
              "          element.appendChild(docLink);\n",
              "        }\n",
              "      </script>\n",
              "    </div>\n",
              "  </div>\n",
              "  "
            ]
          },
          "metadata": {},
          "execution_count": 47
        }
      ],
      "source": [
        "df1 = pd.DataFrame({'Timestamp':df.Time.unique()})\n",
        "for i in df[\"Data Source\"].unique():\n",
        "    df1[i] =list(map(lambda x: np.mean(df.Value[(df.Time == x) & (df[\"Data Source\"] == i)]),  df.Time.unique()))\n",
        "df1"
      ]
    },
    {
      "cell_type": "code",
      "execution_count": null,
      "metadata": {
        "colab": {
          "base_uri": "https://localhost:8080/",
          "height": 298
        },
        "id": "3pUE9ns5dP24",
        "outputId": "21e54f18-2683-409a-e880-c97c5d0d3d38"
      },
      "outputs": [
        {
          "output_type": "stream",
          "name": "stdout",
          "text": [
            "[46.  2. 45. 45.]\n"
          ]
        },
        {
          "output_type": "display_data",
          "data": {
            "text/plain": [
              "<Figure size 432x288 with 1 Axes>"
            ],
            "image/png": "[encoded data removed]"
          },
          "metadata": {
            "needs_background": "light"
          }
        }
      ],
      "source": [
        "l = np.zeros(4)\n",
        "index = 0\n",
        "for i in df1.columns[1:]:\n",
        "    l[index] = df1[i].isna().sum()\n",
        "    index+=1\n",
        "\n",
        "print(l)\n",
        "plt.bar(range(4),l)\n",
        "plt.title('NA por columna')\n",
        "plt.show()"
      ]
    },
    {
      "cell_type": "code",
      "execution_count": null,
      "metadata": {
        "colab": {
          "base_uri": "https://localhost:8080/",
          "height": 316
        },
        "id": "4ruaHQ0MdP24",
        "outputId": "7c7cdd6c-97bc-4c2c-ead3-2abb5e75c073"
      },
      "outputs": [
        {
          "output_type": "display_data",
          "data": {
            "text/plain": [
              "<Figure size 432x288 with 1 Axes>"
            ],
            "image/png": "[encoded data removed]"
          },
          "metadata": {
            "needs_background": "light"
          }
        },
        {
          "output_type": "stream",
          "name": "stdout",
          "text": [
            "3 NaN per row:  28\n",
            "Percentage:  12.12 %\n"
          ]
        }
      ],
      "source": [
        "k = len(df1)\n",
        "l = np.zeros(k)\n",
        "for i in range(k):\n",
        "    l[i] = df1.loc[[i]].isna().sum().sum()\n",
        "plt.hist(l)\n",
        "plt.title('NA per row')\n",
        "plt.show()\n",
        "print(\"3 NaN per row: \", len(np.where(l == 3)[0]))\n",
        "print(\"Percentage: \", np.round(len(np.where(l == 3)[0])/len(df1)*100,2),'%')"
      ]
    },
    {
      "cell_type": "code",
      "execution_count": null,
      "metadata": {
        "colab": {
          "base_uri": "https://localhost:8080/",
          "height": 441
        },
        "id": "6OKtYRYndP25",
        "outputId": "7393fa81-6e64-424c-b95b-3ea57a625abb"
      },
      "outputs": [
        {
          "output_type": "stream",
          "name": "stdout",
          "text": [
            "231\n"
          ]
        },
        {
          "output_type": "execute_result",
          "data": {
            "text/plain": [
              "            Timestamp  Frecuencia_Real     CurrentC1  Corriente_X_Motor  \\\n",
              "0    2022-11-23 06:03       -11.717634  2.387277e+00                NaN   \n",
              "1    2022-11-23 06:04       -11.717634  2.386957e+00                NaN   \n",
              "2    2022-11-23 06:05       -11.717634  2.386875e+00                NaN   \n",
              "3    2022-11-23 06:08       -11.717634  2.387250e+00                NaN   \n",
              "4    2022-11-23 06:09       -11.717634  2.386470e+00                NaN   \n",
              "..                ...              ...           ...                ...   \n",
              "205  2022-11-23 09:16              NaN  2.401019e+00       1.200509e+00   \n",
              "206  2022-11-23 09:18              NaN  2.401031e+00       1.200586e+00   \n",
              "207  2022-11-23 09:25              NaN  2.401172e+00       1.200586e+00   \n",
              "208  2022-11-23 10:16         0.000000  1.951564e-19       9.757819e-20   \n",
              "209  2022-11-23 10:18         0.000000  9.757819e-20       4.878910e-20   \n",
              "\n",
              "         Potencia  \n",
              "0             NaN  \n",
              "1             NaN  \n",
              "2             NaN  \n",
              "3             NaN  \n",
              "4             NaN  \n",
              "..            ...  \n",
              "205  5.282242e+02  \n",
              "206  5.282578e+02  \n",
              "207  5.282578e+02  \n",
              "208  4.293441e-17  \n",
              "209  2.146720e-17  \n",
              "\n",
              "[203 rows x 5 columns]"
            ],
            "text/html": [
              "\n",
              "  <div id=\"df-b5db7b9d-e90a-419a-8e6a-827618190158\">\n",
              "    <div class=\"colab-df-container\">\n",
              "      <div>\n",
              "<style scoped>\n",
              "    .dataframe tbody tr th:only-of-type {\n",
              "        vertical-align: middle;\n",
              "    }\n",
              "\n",
              "    .dataframe tbody tr th {\n",
              "        vertical-align: top;\n",
              "    }\n",
              "\n",
              "    .dataframe thead th {\n",
              "        text-align: right;\n",
              "    }\n",
              "</style>\n",
              "<table border=\"1\" class=\"dataframe\">\n",
              "  <thead>\n",
              "    <tr style=\"text-align: right;\">\n",
              "      <th></th>\n",
              "      <th>Timestamp</th>\n",
              "      <th>Frecuencia_Real</th>\n",
              "      <th>CurrentC1</th>\n",
              "      <th>Corriente_X_Motor</th>\n",
              "      <th>Potencia</th>\n",
              "    </tr>\n",
              "  </thead>\n",
              "  <tbody>\n",
              "    <tr>\n",
              "      <th>0</th>\n",
              "      <td>2022-11-23 06:03</td>\n",
              "      <td>-11.717634</td>\n",
              "      <td>2.387277e+00</td>\n",
              "      <td>NaN</td>\n",
              "      <td>NaN</td>\n",
              "    </tr>\n",
              "    <tr>\n",
              "      <th>1</th>\n",
              "      <td>2022-11-23 06:04</td>\n",
              "      <td>-11.717634</td>\n",
              "      <td>2.386957e+00</td>\n",
              "      <td>NaN</td>\n",
              "      <td>NaN</td>\n",
              "    </tr>\n",
              "    <tr>\n",
              "      <th>2</th>\n",
              "      <td>2022-11-23 06:05</td>\n",
              "      <td>-11.717634</td>\n",
              "      <td>2.386875e+00</td>\n",
              "      <td>NaN</td>\n",
              "      <td>NaN</td>\n",
              "    </tr>\n",
              "    <tr>\n",
              "      <th>3</th>\n",
              "      <td>2022-11-23 06:08</td>\n",
              "      <td>-11.717634</td>\n",
              "      <td>2.387250e+00</td>\n",
              "      <td>NaN</td>\n",
              "      <td>NaN</td>\n",
              "    </tr>\n",
              "    <tr>\n",
              "      <th>4</th>\n",
              "      <td>2022-11-23 06:09</td>\n",
              "      <td>-11.717634</td>\n",
              "      <td>2.386470e+00</td>\n",
              "      <td>NaN</td>\n",
              "      <td>NaN</td>\n",
              "    </tr>\n",
              "    <tr>\n",
              "      <th>...</th>\n",
              "      <td>...</td>\n",
              "      <td>...</td>\n",
              "      <td>...</td>\n",
              "      <td>...</td>\n",
              "      <td>...</td>\n",
              "    </tr>\n",
              "    <tr>\n",
              "      <th>205</th>\n",
              "      <td>2022-11-23 09:16</td>\n",
              "      <td>NaN</td>\n",
              "      <td>2.401019e+00</td>\n",
              "      <td>1.200509e+00</td>\n",
              "      <td>5.282242e+02</td>\n",
              "    </tr>\n",
              "    <tr>\n",
              "      <th>206</th>\n",
              "      <td>2022-11-23 09:18</td>\n",
              "      <td>NaN</td>\n",
              "      <td>2.401031e+00</td>\n",
              "      <td>1.200586e+00</td>\n",
              "      <td>5.282578e+02</td>\n",
              "    </tr>\n",
              "    <tr>\n",
              "      <th>207</th>\n",
              "      <td>2022-11-23 09:25</td>\n",
              "      <td>NaN</td>\n",
              "      <td>2.401172e+00</td>\n",
              "      <td>1.200586e+00</td>\n",
              "      <td>5.282578e+02</td>\n",
              "    </tr>\n",
              "    <tr>\n",
              "      <th>208</th>\n",
              "      <td>2022-11-23 10:16</td>\n",
              "      <td>0.000000</td>\n",
              "      <td>1.951564e-19</td>\n",
              "      <td>9.757819e-20</td>\n",
              "      <td>4.293441e-17</td>\n",
              "    </tr>\n",
              "    <tr>\n",
              "      <th>209</th>\n",
              "      <td>2022-11-23 10:18</td>\n",
              "      <td>0.000000</td>\n",
              "      <td>9.757819e-20</td>\n",
              "      <td>4.878910e-20</td>\n",
              "      <td>2.146720e-17</td>\n",
              "    </tr>\n",
              "  </tbody>\n",
              "</table>\n",
              "<p>203 rows × 5 columns</p>\n",
              "</div>\n",
              "      <button class=\"colab-df-convert\" onclick=\"convertToInteractive('df-b5db7b9d-e90a-419a-8e6a-827618190158')\"\n",
              "              title=\"Convert this dataframe to an interactive table.\"\n",
              "              style=\"display:none;\">\n",
              "        \n",
              "  <svg xmlns=\"http://www.w3.org/2000/svg\" height=\"24px\"viewBox=\"0 0 24 24\"\n",
              "       width=\"24px\">\n",
              "    <path d=\"M0 0h24v24H0V0z\" fill=\"none\"/>\n",
              "    <path d=\"M18.56 5.44l.94 2.06.94-2.06 2.06-.94-2.06-.94-.94-2.06-.94 2.06-2.06.94zm-11 1L8.5 8.5l.94-2.06 2.06-.94-2.06-.94L8.5 2.5l-.94 2.06-2.06.94zm10 10l.94 2.06.94-2.06 2.06-.94-2.06-.94-.94-2.06-.94 2.06-2.06.94z\"/><path d=\"M17.41 7.96l-1.37-1.37c-.4-.4-.92-.59-1.43-.59-.52 0-1.04.2-1.43.59L10.3 9.45l-7.72 7.72c-.78.78-.78 2.05 0 2.83L4 21.41c.39.39.9.59 1.41.59.51 0 1.02-.2 1.41-.59l7.78-7.78 2.81-2.81c.8-.78.8-2.07 0-2.86zM5.41 20L4 18.59l7.72-7.72 1.47 1.35L5.41 20z\"/>\n",
              "  </svg>\n",
              "      </button>\n",
              "      \n",
              "  <style>\n",
              "    .colab-df-container {\n",
              "      display:flex;\n",
              "      flex-wrap:wrap;\n",
              "      gap: 12px;\n",
              "    }\n",
              "\n",
              "    .colab-df-convert {\n",
              "      background-color: #E8F0FE;\n",
              "      border: none;\n",
              "      border-radius: 50%;\n",
              "      cursor: pointer;\n",
              "      display: none;\n",
              "      fill: #1967D2;\n",
              "      height: 32px;\n",
              "      padding: 0 0 0 0;\n",
              "      width: 32px;\n",
              "    }\n",
              "\n",
              "    .colab-df-convert:hover {\n",
              "      background-color: #E2EBFA;\n",
              "      box-shadow: 0px 1px 2px rgba(60, 64, 67, 0.3), 0px 1px 3px 1px rgba(60, 64, 67, 0.15);\n",
              "      fill: #174EA6;\n",
              "    }\n",
              "\n",
              "    [theme=dark] .colab-df-convert {\n",
              "      background-color: #3B4455;\n",
              "      fill: #D2E3FC;\n",
              "    }\n",
              "\n",
              "    [theme=dark] .colab-df-convert:hover {\n",
              "      background-color: #434B5C;\n",
              "      box-shadow: 0px 1px 3px 1px rgba(0, 0, 0, 0.15);\n",
              "      filter: drop-shadow(0px 1px 2px rgba(0, 0, 0, 0.3));\n",
              "      fill: #FFFFFF;\n",
              "    }\n",
              "  </style>\n",
              "\n",
              "      <script>\n",
              "        const buttonEl =\n",
              "          document.querySelector('#df-b5db7b9d-e90a-419a-8e6a-827618190158 button.colab-df-convert');\n",
              "        buttonEl.style.display =\n",
              "          google.colab.kernel.accessAllowed ? 'block' : 'none';\n",
              "\n",
              "        async function convertToInteractive(key) {\n",
              "          const element = document.querySelector('#df-b5db7b9d-e90a-419a-8e6a-827618190158');\n",
              "          const dataTable =\n",
              "            await google.colab.kernel.invokeFunction('convertToInteractive',\n",
              "                                                     [key], {});\n",
              "          if (!dataTable) return;\n",
              "\n",
              "          const docLinkHtml = 'Like what you see? Visit the ' +\n",
              "            '<a target=\"_blank\" href=https://colab.research.google.com/notebooks/data_table.ipynb>data table notebook</a>'\n",
              "            + ' to learn more about interactive tables.';\n",
              "          element.innerHTML = '';\n",
              "          dataTable['output_type'] = 'display_data';\n",
              "          await google.colab.output.renderOutput(dataTable, element);\n",
              "          const docLink = document.createElement('div');\n",
              "          docLink.innerHTML = docLinkHtml;\n",
              "          element.appendChild(docLink);\n",
              "        }\n",
              "      </script>\n",
              "    </div>\n",
              "  </div>\n",
              "  "
            ]
          },
          "metadata": {},
          "execution_count": 50
        }
      ],
      "source": [
        "print(len(df1))\n",
        "#Quitamos las filas con 3 NA\n",
        "index = np.where(l == 3)[0]\n",
        "df2 = df1.copy()\n",
        "df2 = df2[~df2.index.isin(index)]\n",
        "df2"
      ]
    },
    {
      "cell_type": "code",
      "execution_count": null,
      "metadata": {
        "colab": {
          "base_uri": "https://localhost:8080/",
          "height": 1000
        },
        "id": "4TnjeQyMdP25",
        "outputId": "888c5dbf-893c-449b-f419-062b283c1207"
      },
      "outputs": [
        {
          "output_type": "display_data",
          "data": {
            "text/plain": [
              "<Figure size 432x288 with 1 Axes>"
            ],
            "image/png": "[encoded data removed]"
          },
          "metadata": {
            "needs_background": "light"
          }
        },
        {
          "output_type": "display_data",
          "data": {
            "text/plain": [
              "<Figure size 432x288 with 1 Axes>"
            ],
            "image/png": "[encoded data removed]"
          },
          "metadata": {
            "needs_background": "light"
          }
        },
        {
          "output_type": "display_data",
          "data": {
            "text/plain": [
              "<Figure size 432x288 with 1 Axes>"
            ],
            "image/png": "[encoded data removed]"
          },
          "metadata": {
            "needs_background": "light"
          }
        },
        {
          "output_type": "display_data",
          "data": {
            "text/plain": [
              "<Figure size 432x288 with 1 Axes>"
            ],
            "image/png": "[encoded data removed]"
          },
          "metadata": {
            "needs_background": "light"
          }
        }
      ],
      "source": [
        "for i in df2.columns[1:]:\n",
        "    plt.hist(df2[i], bins=int(np.sqrt(len(df2))))\n",
        "    plt.title(i)\n",
        "    plt.show()"
      ]
    },
    {
      "cell_type": "code",
      "execution_count": null,
      "metadata": {
        "colab": {
          "base_uri": "https://localhost:8080/",
          "height": 1000
        },
        "id": "6t8MY2qzdP26",
        "outputId": "147c37ae-823e-4238-b127-fde4dc6e0e9e"
      },
      "outputs": [
        {
          "output_type": "display_data",
          "data": {
            "text/plain": [
              "<Figure size 432x288 with 1 Axes>"
            ],
            "image/png": "[encoded data removed]"
          },
          "metadata": {
            "needs_background": "light"
          }
        },
        {
          "output_type": "display_data",
          "data": {
            "text/plain": [
              "<Figure size 432x288 with 1 Axes>"
            ],
            "image/png": "[encoded data removed]"
          },
          "metadata": {
            "needs_background": "light"
          }
        },
        {
          "output_type": "display_data",
          "data": {
            "text/plain": [
              "<Figure size 432x288 with 1 Axes>"
            ],
            "image/png": "[encoded data removed]"
          },
          "metadata": {
            "needs_background": "light"
          }
        },
        {
          "output_type": "display_data",
          "data": {
            "text/plain": [
              "<Figure size 432x288 with 1 Axes>"
            ],
            "image/png": "[encoded data removed]"
          },
          "metadata": {
            "needs_background": "light"
          }
        }
      ],
      "source": [
        "from sklearn.impute import SimpleImputer\n",
        "imputer = SimpleImputer(strategy=\"median\")\n",
        "df3 = df2.copy().drop(columns = [\"Timestamp\"])\n",
        "imputer.fit(df3)\n",
        "X = imputer.transform(df3)\n",
        "df3 = pd.DataFrame(X, columns=df3.columns)\n",
        "for i in df3.columns:\n",
        "    plt.hist(df3[i], bins=int(np.sqrt(len(df3))))\n",
        "    plt.title(i)\n",
        "    plt.show()"
      ]
    },
    {
      "cell_type": "code",
      "source": [
        "import seaborn as sns\n",
        "correlaciones = df3.corr(method='pearson')\n",
        "plt.figure(figsize=(12, 8))\n",
        "sns.heatmap(correlaciones, cmap=\"coolwarm\", annot=True)\n",
        "plt.show()"
      ],
      "metadata": {
        "colab": {
          "base_uri": "https://localhost:8080/",
          "height": 488
        },
        "id": "zgM19RI00AuL",
        "outputId": "4dd6eb59-607a-46e2-c8f2-d0047f190c7a"
      },
      "execution_count": null,
      "outputs": [
        {
          "output_type": "display_data",
          "data": {
            "text/plain": [
              "<Figure size 864x576 with 2 Axes>"
            ],
            "image/png": "[encoded data removed]"
          },
          "metadata": {
            "needs_background": "light"
          }
        }
      ]
    },
    {
      "cell_type": "code",
      "source": [
        "from sklearn.mixture import GaussianMixture\n",
        "gm = GaussianMixture(n_components=2, n_init=10)\n",
        "gm.fit_predict(df3)"
      ],
      "metadata": {
        "colab": {
          "base_uri": "https://localhost:8080/"
        },
        "id": "1oCVL9VleDje",
        "outputId": "866e6236-8c5c-4e97-d0c0-b26f02c90533"
      },
      "execution_count": null,
      "outputs": [
        {
          "output_type": "execute_result",
          "data": {
            "text/plain": [
              "array([0, 0, 0, 0, 0, 0, 0, 0, 0, 0, 0, 0, 0, 0, 0, 0, 0, 0, 0, 0, 0, 0,\n",
              "       0, 0, 0, 0, 0, 0, 0, 0, 0, 0, 0, 0, 0, 0, 0, 0, 0, 0, 0, 0, 0, 0,\n",
              "       0, 0, 0, 0, 0, 0, 0, 0, 0, 0, 0, 0, 0, 0, 0, 0, 0, 0, 0, 0, 0, 0,\n",
              "       0, 0, 0, 0, 0, 0, 0, 0, 0, 0, 0, 0, 0, 0, 0, 0, 0, 0, 0, 0, 0, 0,\n",
              "       0, 0, 0, 0, 0, 0, 0, 0, 0, 0, 0, 0, 0, 0, 0, 0, 0, 0, 0, 0, 0, 0,\n",
              "       0, 0, 0, 0, 0, 0, 0, 0, 0, 0, 0, 0, 0, 0, 0, 0, 0, 0, 0, 0, 0, 0,\n",
              "       0, 0, 0, 0, 0, 0, 0, 0, 0, 0, 0, 0, 0, 0, 0, 0, 0, 0, 0, 0, 0, 0,\n",
              "       0, 0, 0, 0, 0, 0, 0, 0, 0, 0, 0, 0, 0, 0, 0, 0, 0, 0, 0, 0, 0, 0,\n",
              "       0, 0, 0, 0, 0, 0, 0, 0, 0, 0, 0, 0, 0, 0, 0, 0, 0, 0, 0, 0, 0, 0,\n",
              "       0, 0, 0, 1, 1])"
            ]
          },
          "metadata": {},
          "execution_count": 54
        }
      ]
    },
    {
      "cell_type": "code",
      "source": [
        "gm.converged_"
      ],
      "metadata": {
        "colab": {
          "base_uri": "https://localhost:8080/"
        },
        "id": "3rq7fUXrea9I",
        "outputId": "2fce4299-fc15-4b17-f5b8-deb0c9087cef"
      },
      "execution_count": null,
      "outputs": [
        {
          "output_type": "execute_result",
          "data": {
            "text/plain": [
              "True"
            ]
          },
          "metadata": {},
          "execution_count": 55
        }
      ]
    },
    {
      "cell_type": "code",
      "source": [
        "def plot_centroids(centroids, weights=None, circle_color='w', cross_color='k'):\n",
        "    if weights is not None:\n",
        "        centroids = centroids[weights > weights.max() / 10]\n",
        "    plt.scatter(centroids[:, 0], centroids[:, 1],\n",
        "                marker='o', s=35, linewidths=8,\n",
        "                color=circle_color, zorder=10, alpha=0.9)\n",
        "    plt.scatter(centroids[:, 0], centroids[:, 1],\n",
        "                marker='x', s=2, linewidths=12,\n",
        "                color=cross_color, zorder=11, alpha=1)"
      ],
      "metadata": {
        "id": "oxvNngUYfGrE"
      },
      "execution_count": null,
      "outputs": []
    },
    {
      "cell_type": "code",
      "source": [
        "from matplotlib.colors import LogNorm\n",
        "\n",
        "def plot_gaussian_mixture(clusterer, X, resolution=1000, show_ylabels=True):\n",
        "    mins = X.min(axis=0) - 0.1\n",
        "    maxs = X.max(axis=0) + 0.1\n",
        "    xx, yy = np.meshgrid(np.linspace(mins[0], maxs[0], resolution),\n",
        "                         np.linspace(mins[1], maxs[1], resolution))\n",
        "    Z = -clusterer.score_samples(np.c_[xx.ravel(), yy.ravel()])\n",
        "    Z = Z.reshape(xx.shape)\n",
        "\n",
        "    plt.contourf(xx, yy, Z,\n",
        "                 norm=LogNorm(vmin=1.0, vmax=30.0),\n",
        "                 levels=np.logspace(0, 2, 12))\n",
        "    plt.contour(xx, yy, Z,\n",
        "                norm=LogNorm(vmin=1.0, vmax=30.0),\n",
        "                levels=np.logspace(0, 2, 12),\n",
        "                linewidths=1, colors='k')\n",
        "\n",
        "    Z = clusterer.predict(np.c_[xx.ravel(), yy.ravel()])\n",
        "    Z = Z.reshape(xx.shape)\n",
        "    plt.contour(xx, yy, Z,\n",
        "                linewidths=2, colors='r', linestyles='dashed')\n",
        "    \n",
        "    plt.plot(X[:, 0], X[:, 1], 'k.', markersize=2)\n",
        "    plot_centroids(clusterer.means_, clusterer.weights_)\n",
        "\n",
        "    plt.xlabel(\"$x_1$\", fontsize=14)\n",
        "    if show_ylabels:\n",
        "        plt.ylabel(\"$x_2$\", fontsize=14, rotation=0)\n",
        "    else:\n",
        "        plt.tick_params(labelleft=False)"
      ],
      "metadata": {
        "id": "l93D28_Ne5Pr"
      },
      "execution_count": null,
      "outputs": []
    },
    {
      "cell_type": "code",
      "source": [
        "gm.predict(df3)"
      ],
      "metadata": {
        "colab": {
          "base_uri": "https://localhost:8080/"
        },
        "id": "L4hmIXibfIZC",
        "outputId": "b4adfd50-7704-43ff-f3fb-1a2dec330e70"
      },
      "execution_count": null,
      "outputs": [
        {
          "output_type": "execute_result",
          "data": {
            "text/plain": [
              "array([0, 0, 0, 0, 0, 0, 0, 0, 0, 0, 0, 0, 0, 0, 0, 0, 0, 0, 0, 0, 0, 0,\n",
              "       0, 0, 0, 0, 0, 0, 0, 0, 0, 0, 0, 0, 0, 0, 0, 0, 0, 0, 0, 0, 0, 0,\n",
              "       0, 0, 0, 0, 0, 0, 0, 0, 0, 0, 0, 0, 0, 0, 0, 0, 0, 0, 0, 0, 0, 0,\n",
              "       0, 0, 0, 0, 0, 0, 0, 0, 0, 0, 0, 0, 0, 0, 0, 0, 0, 0, 0, 0, 0, 0,\n",
              "       0, 0, 0, 0, 0, 0, 0, 0, 0, 0, 0, 0, 0, 0, 0, 0, 0, 0, 0, 0, 0, 0,\n",
              "       0, 0, 0, 0, 0, 0, 0, 0, 0, 0, 0, 0, 0, 0, 0, 0, 0, 0, 0, 0, 0, 0,\n",
              "       0, 0, 0, 0, 0, 0, 0, 0, 0, 0, 0, 0, 0, 0, 0, 0, 0, 0, 0, 0, 0, 0,\n",
              "       0, 0, 0, 0, 0, 0, 0, 0, 0, 0, 0, 0, 0, 0, 0, 0, 0, 0, 0, 0, 0, 0,\n",
              "       0, 0, 0, 0, 0, 0, 0, 0, 0, 0, 0, 0, 0, 0, 0, 0, 0, 0, 0, 0, 0, 0,\n",
              "       0, 0, 0, 1, 1])"
            ]
          },
          "metadata": {},
          "execution_count": 58
        }
      ]
    },
    {
      "cell_type": "code",
      "source": [
        "from sklearn.decomposition import PCA\n",
        "from sklearn.mixture import GaussianMixture\n",
        "\n",
        "pca = PCA(n_components = 2)\n",
        "X2D = pca.fit_transform(df3)\n",
        "plt.figure(figsize=(8, 4))\n",
        "\n",
        "gm2 = GaussianMixture(n_components=2, n_init=10, covariance_type=\"tied\")\n",
        "gm2.fit(X2D)\n",
        "plot_gaussian_mixture(gm2, X2D)\n",
        "plt.show()"
      ],
      "metadata": {
        "colab": {
          "base_uri": "https://localhost:8080/",
          "height": 284
        },
        "id": "NEI5XmVRgtPZ",
        "outputId": "353ae123-b5f2-45c0-b60a-f6e8f9c4735d"
      },
      "execution_count": null,
      "outputs": [
        {
          "output_type": "display_data",
          "data": {
            "text/plain": [
              "<Figure size 576x288 with 1 Axes>"
            ],
            "image/png": "[encoded data removed]"
          },
          "metadata": {
            "needs_background": "light"
          }
        }
      ]
    },
    {
      "cell_type": "code",
      "source": [
        "densities = gm2.score_samples(X2D)\n",
        "density_threshold = np.percentile(densities, 4)\n",
        "anomalies = X[densities < density_threshold]\n",
        "print(anomalies)"
      ],
      "metadata": {
        "colab": {
          "base_uri": "https://localhost:8080/"
        },
        "id": "KKYY_YWehqCI",
        "outputId": "4561a31e-ac8a-434c-c57d-20efa236ae2b"
      },
      "execution_count": null,
      "outputs": [
        {
          "output_type": "stream",
          "name": "stdout",
          "text": [
            "[[-11.71783765   2.3856618    1.19255024 524.72209821]\n",
            " [-11.7176342    2.38309157   1.19154578 524.28013393]\n",
            " [-11.7176342    2.38398442   1.19199221 524.4765625 ]\n",
            " [-11.71702385   2.38289068   1.19144534 524.2359375 ]\n",
            " [-11.71397161   2.3800782    1.1900391  523.6171875 ]\n",
            " [-11.7176342    2.38137342   1.19068671 523.90213816]\n",
            " [-11.71671867   2.3800782    1.1900391  523.6171875 ]\n",
            " [ -7.31550993   1.78528395   0.89264197 392.76246749]\n",
            " [ -7.36024272   1.81064212   0.90532106 398.34125926]]\n"
          ]
        }
      ]
    },
    {
      "cell_type": "code",
      "source": [
        "plt.figure(figsize=(8, 4))\n",
        "\n",
        "plot_gaussian_mixture(gm2, X2D)\n",
        "plt.scatter(anomalies[:, 0], anomalies[:, 1], color='r', marker='*')\n",
        "#plt.ylim(top=5.1)\n",
        "\n",
        "plt.show()"
      ],
      "metadata": {
        "colab": {
          "base_uri": "https://localhost:8080/",
          "height": 286
        },
        "id": "-4me0zfWsbDn",
        "outputId": "770a5db4-a10d-418b-b65d-90dd3f08fcd5"
      },
      "execution_count": null,
      "outputs": [
        {
          "output_type": "display_data",
          "data": {
            "text/plain": [
              "<Figure size 576x288 with 1 Axes>"
            ],
            "image/png": "[encoded data removed]"
          },
          "metadata": {
            "needs_background": "light"
          }
        }
      ]
    },
    {
      "cell_type": "code",
      "source": [
        "from sklearn.decomposition import PCA\n",
        "reduccion = PCA(n_components =  2) #Reduce a dos variables nuevas\n",
        "df4 = pd.DataFrame(reduccion.fit_transform(df3))\n",
        "plt.scatter(df4[df4.columns[0]], df4[df4.columns[1]])\n",
        "plt.xlabel(\"X1\")\n",
        "plt.ylabel(\"X2\")\n",
        "plt.show()"
      ],
      "metadata": {
        "colab": {
          "base_uri": "https://localhost:8080/",
          "height": 279
        },
        "id": "8kazqQwytY8F",
        "outputId": "fd8d50d9-a5f5-463e-f79f-7791fad56e00"
      },
      "execution_count": null,
      "outputs": [
        {
          "output_type": "display_data",
          "data": {
            "text/plain": [
              "<Figure size 432x288 with 1 Axes>"
            ],
            "image/png": "[encoded data removed]"
          },
          "metadata": {
            "needs_background": "light"
          }
        }
      ]
    },
    {
      "cell_type": "code",
      "source": [
        "from IPython.core.interactiveshell import InteractiveShellABC\n",
        "from sklearn.cluster import KMeans\n",
        "agrupamiento = KMeans(n_clusters=3)\n",
        "df3['grupo'] = agrupamiento.fit_predict(df3)\n",
        "df3 #Grupo 0 es el primer grupo"
      ],
      "metadata": {
        "colab": {
          "base_uri": "https://localhost:8080/",
          "height": 424
        },
        "id": "fwdla1bbth3D",
        "outputId": "d248b95e-7356-4c75-dbda-19f4e6257c96"
      },
      "execution_count": null,
      "outputs": [
        {
          "output_type": "execute_result",
          "data": {
            "text/plain": [
              "     Frecuencia_Real     CurrentC1  Corriente_X_Motor      Potencia  grupo\n",
              "0         -11.717634  2.387277e+00       1.203398e+00  5.294953e+02      0\n",
              "1         -11.717634  2.386957e+00       1.203398e+00  5.294953e+02      0\n",
              "2         -11.717634  2.386875e+00       1.203398e+00  5.294953e+02      0\n",
              "3         -11.717634  2.387250e+00       1.203398e+00  5.294953e+02      0\n",
              "4         -11.717634  2.386470e+00       1.203398e+00  5.294953e+02      0\n",
              "..               ...           ...                ...           ...    ...\n",
              "198       -11.717634  2.401019e+00       1.200509e+00  5.282242e+02      0\n",
              "199       -11.717634  2.401031e+00       1.200586e+00  5.282578e+02      0\n",
              "200       -11.717634  2.401172e+00       1.200586e+00  5.282578e+02      0\n",
              "201         0.000000  1.951564e-19       9.757819e-20  4.293441e-17      1\n",
              "202         0.000000  9.757819e-20       4.878910e-20  2.146720e-17      1\n",
              "\n",
              "[203 rows x 5 columns]"
            ],
            "text/html": [
              "\n",
              "  <div id=\"df-b5f5ad95-707e-4e31-8cb1-4bd73099c9ec\">\n",
              "    <div class=\"colab-df-container\">\n",
              "      <div>\n",
              "<style scoped>\n",
              "    .dataframe tbody tr th:only-of-type {\n",
              "        vertical-align: middle;\n",
              "    }\n",
              "\n",
              "    .dataframe tbody tr th {\n",
              "        vertical-align: top;\n",
              "    }\n",
              "\n",
              "    .dataframe thead th {\n",
              "        text-align: right;\n",
              "    }\n",
              "</style>\n",
              "<table border=\"1\" class=\"dataframe\">\n",
              "  <thead>\n",
              "    <tr style=\"text-align: right;\">\n",
              "      <th></th>\n",
              "      <th>Frecuencia_Real</th>\n",
              "      <th>CurrentC1</th>\n",
              "      <th>Corriente_X_Motor</th>\n",
              "      <th>Potencia</th>\n",
              "      <th>grupo</th>\n",
              "    </tr>\n",
              "  </thead>\n",
              "  <tbody>\n",
              "    <tr>\n",
              "      <th>0</th>\n",
              "      <td>-11.717634</td>\n",
              "      <td>2.387277e+00</td>\n",
              "      <td>1.203398e+00</td>\n",
              "      <td>5.294953e+02</td>\n",
              "      <td>0</td>\n",
              "    </tr>\n",
              "    <tr>\n",
              "      <th>1</th>\n",
              "      <td>-11.717634</td>\n",
              "      <td>2.386957e+00</td>\n",
              "      <td>1.203398e+00</td>\n",
              "      <td>5.294953e+02</td>\n",
              "      <td>0</td>\n",
              "    </tr>\n",
              "    <tr>\n",
              "      <th>2</th>\n",
              "      <td>-11.717634</td>\n",
              "      <td>2.386875e+00</td>\n",
              "      <td>1.203398e+00</td>\n",
              "      <td>5.294953e+02</td>\n",
              "      <td>0</td>\n",
              "    </tr>\n",
              "    <tr>\n",
              "      <th>3</th>\n",
              "      <td>-11.717634</td>\n",
              "      <td>2.387250e+00</td>\n",
              "      <td>1.203398e+00</td>\n",
              "      <td>5.294953e+02</td>\n",
              "      <td>0</td>\n",
              "    </tr>\n",
              "    <tr>\n",
              "      <th>4</th>\n",
              "      <td>-11.717634</td>\n",
              "      <td>2.386470e+00</td>\n",
              "      <td>1.203398e+00</td>\n",
              "      <td>5.294953e+02</td>\n",
              "      <td>0</td>\n",
              "    </tr>\n",
              "    <tr>\n",
              "      <th>...</th>\n",
              "      <td>...</td>\n",
              "      <td>...</td>\n",
              "      <td>...</td>\n",
              "      <td>...</td>\n",
              "      <td>...</td>\n",
              "    </tr>\n",
              "    <tr>\n",
              "      <th>198</th>\n",
              "      <td>-11.717634</td>\n",
              "      <td>2.401019e+00</td>\n",
              "      <td>1.200509e+00</td>\n",
              "      <td>5.282242e+02</td>\n",
              "      <td>0</td>\n",
              "    </tr>\n",
              "    <tr>\n",
              "      <th>199</th>\n",
              "      <td>-11.717634</td>\n",
              "      <td>2.401031e+00</td>\n",
              "      <td>1.200586e+00</td>\n",
              "      <td>5.282578e+02</td>\n",
              "      <td>0</td>\n",
              "    </tr>\n",
              "    <tr>\n",
              "      <th>200</th>\n",
              "      <td>-11.717634</td>\n",
              "      <td>2.401172e+00</td>\n",
              "      <td>1.200586e+00</td>\n",
              "      <td>5.282578e+02</td>\n",
              "      <td>0</td>\n",
              "    </tr>\n",
              "    <tr>\n",
              "      <th>201</th>\n",
              "      <td>0.000000</td>\n",
              "      <td>1.951564e-19</td>\n",
              "      <td>9.757819e-20</td>\n",
              "      <td>4.293441e-17</td>\n",
              "      <td>1</td>\n",
              "    </tr>\n",
              "    <tr>\n",
              "      <th>202</th>\n",
              "      <td>0.000000</td>\n",
              "      <td>9.757819e-20</td>\n",
              "      <td>4.878910e-20</td>\n",
              "      <td>2.146720e-17</td>\n",
              "      <td>1</td>\n",
              "    </tr>\n",
              "  </tbody>\n",
              "</table>\n",
              "<p>203 rows × 5 columns</p>\n",
              "</div>\n",
              "      <button class=\"colab-df-convert\" onclick=\"convertToInteractive('df-b5f5ad95-707e-4e31-8cb1-4bd73099c9ec')\"\n",
              "              title=\"Convert this dataframe to an interactive table.\"\n",
              "              style=\"display:none;\">\n",
              "        \n",
              "  <svg xmlns=\"http://www.w3.org/2000/svg\" height=\"24px\"viewBox=\"0 0 24 24\"\n",
              "       width=\"24px\">\n",
              "    <path d=\"M0 0h24v24H0V0z\" fill=\"none\"/>\n",
              "    <path d=\"M18.56 5.44l.94 2.06.94-2.06 2.06-.94-2.06-.94-.94-2.06-.94 2.06-2.06.94zm-11 1L8.5 8.5l.94-2.06 2.06-.94-2.06-.94L8.5 2.5l-.94 2.06-2.06.94zm10 10l.94 2.06.94-2.06 2.06-.94-2.06-.94-.94-2.06-.94 2.06-2.06.94z\"/><path d=\"M17.41 7.96l-1.37-1.37c-.4-.4-.92-.59-1.43-.59-.52 0-1.04.2-1.43.59L10.3 9.45l-7.72 7.72c-.78.78-.78 2.05 0 2.83L4 21.41c.39.39.9.59 1.41.59.51 0 1.02-.2 1.41-.59l7.78-7.78 2.81-2.81c.8-.78.8-2.07 0-2.86zM5.41 20L4 18.59l7.72-7.72 1.47 1.35L5.41 20z\"/>\n",
              "  </svg>\n",
              "      </button>\n",
              "      \n",
              "  <style>\n",
              "    .colab-df-container {\n",
              "      display:flex;\n",
              "      flex-wrap:wrap;\n",
              "      gap: 12px;\n",
              "    }\n",
              "\n",
              "    .colab-df-convert {\n",
              "      background-color: #E8F0FE;\n",
              "      border: none;\n",
              "      border-radius: 50%;\n",
              "      cursor: pointer;\n",
              "      display: none;\n",
              "      fill: #1967D2;\n",
              "      height: 32px;\n",
              "      padding: 0 0 0 0;\n",
              "      width: 32px;\n",
              "    }\n",
              "\n",
              "    .colab-df-convert:hover {\n",
              "      background-color: #E2EBFA;\n",
              "      box-shadow: 0px 1px 2px rgba(60, 64, 67, 0.3), 0px 1px 3px 1px rgba(60, 64, 67, 0.15);\n",
              "      fill: #174EA6;\n",
              "    }\n",
              "\n",
              "    [theme=dark] .colab-df-convert {\n",
              "      background-color: #3B4455;\n",
              "      fill: #D2E3FC;\n",
              "    }\n",
              "\n",
              "    [theme=dark] .colab-df-convert:hover {\n",
              "      background-color: #434B5C;\n",
              "      box-shadow: 0px 1px 3px 1px rgba(0, 0, 0, 0.15);\n",
              "      filter: drop-shadow(0px 1px 2px rgba(0, 0, 0, 0.3));\n",
              "      fill: #FFFFFF;\n",
              "    }\n",
              "  </style>\n",
              "\n",
              "      <script>\n",
              "        const buttonEl =\n",
              "          document.querySelector('#df-b5f5ad95-707e-4e31-8cb1-4bd73099c9ec button.colab-df-convert');\n",
              "        buttonEl.style.display =\n",
              "          google.colab.kernel.accessAllowed ? 'block' : 'none';\n",
              "\n",
              "        async function convertToInteractive(key) {\n",
              "          const element = document.querySelector('#df-b5f5ad95-707e-4e31-8cb1-4bd73099c9ec');\n",
              "          const dataTable =\n",
              "            await google.colab.kernel.invokeFunction('convertToInteractive',\n",
              "                                                     [key], {});\n",
              "          if (!dataTable) return;\n",
              "\n",
              "          const docLinkHtml = 'Like what you see? Visit the ' +\n",
              "            '<a target=\"_blank\" href=https://colab.research.google.com/notebooks/data_table.ipynb>data table notebook</a>'\n",
              "            + ' to learn more about interactive tables.';\n",
              "          element.innerHTML = '';\n",
              "          dataTable['output_type'] = 'display_data';\n",
              "          await google.colab.output.renderOutput(dataTable, element);\n",
              "          const docLink = document.createElement('div');\n",
              "          docLink.innerHTML = docLinkHtml;\n",
              "          element.appendChild(docLink);\n",
              "        }\n",
              "      </script>\n",
              "    </div>\n",
              "  </div>\n",
              "  "
            ]
          },
          "metadata": {},
          "execution_count": 63
        }
      ]
    },
    {
      "cell_type": "code",
      "source": [
        "filtro1 = df3['grupo'] == 0\n",
        "filtro2 = df3['grupo'] == 1\n",
        "filtro3 = df3['grupo'] == 2\n",
        "\n",
        "reduccion = PCA(n_components =  2) #Reduce a dos variables nuevas\n",
        "df3[['redu1', 'redu2']] = reduccion.fit_transform(df3)\n",
        "\n",
        "plt.figure(figsize = (8,8))\n",
        "plt.scatter(df3['redu1'][filtro1], df3['redu2'][filtro1], label = 'Normal')\n",
        "plt.scatter(df3['redu1'][filtro2], df3['redu2'][filtro2], label = 'Off')\n",
        "plt.scatter(df3['redu1'][filtro3], df3['redu2'][filtro3], label = 'Group 2')\n",
        "#Anómalo son los datos de la tarde\n",
        "plt.legend()\n",
        "plt.xlabel(\"X1\")\n",
        "plt.ylabel(\"X2\")\n",
        "plt.show()"
      ],
      "metadata": {
        "colab": {
          "base_uri": "https://localhost:8080/",
          "height": 497
        },
        "id": "TxBUTymAugHH",
        "outputId": "09965193-45d1-4e74-bf4f-8bb3448e4708"
      },
      "execution_count": null,
      "outputs": [
        {
          "output_type": "display_data",
          "data": {
            "text/plain": [
              "<Figure size 576x576 with 1 Axes>"
            ],
            "image/png": "[encoded data removed]"
          },
          "metadata": {
            "needs_background": "light"
          }
        }
      ]
    },
    {
      "cell_type": "code",
      "source": [
        "df3[filtro3] #(grupo 2)"
      ],
      "metadata": {
        "colab": {
          "base_uri": "https://localhost:8080/",
          "height": 112
        },
        "id": "2O5iaOKPEjLV",
        "outputId": "daf2db56-418e-4a92-cbb6-665c4f3c0545"
      },
      "execution_count": null,
      "outputs": [
        {
          "output_type": "execute_result",
          "data": {
            "text/plain": [
              "    Frecuencia_Real  CurrentC1  Corriente_X_Motor    Potencia  grupo  \\\n",
              "24        -7.315510   1.785284           0.892642  392.762467      2   \n",
              "25        -7.360243   1.810642           0.905321  398.341259      2   \n",
              "\n",
              "         redu1     redu2  \n",
              "24  129.976424  2.074723  \n",
              "25  124.398005  2.138466  "
            ],
            "text/html": [
              "\n",
              "  <div id=\"df-a431e73e-28e2-4167-bcfc-ad1a6ee0e1d0\">\n",
              "    <div class=\"colab-df-container\">\n",
              "      <div>\n",
              "<style scoped>\n",
              "    .dataframe tbody tr th:only-of-type {\n",
              "        vertical-align: middle;\n",
              "    }\n",
              "\n",
              "    .dataframe tbody tr th {\n",
              "        vertical-align: top;\n",
              "    }\n",
              "\n",
              "    .dataframe thead th {\n",
              "        text-align: right;\n",
              "    }\n",
              "</style>\n",
              "<table border=\"1\" class=\"dataframe\">\n",
              "  <thead>\n",
              "    <tr style=\"text-align: right;\">\n",
              "      <th></th>\n",
              "      <th>Frecuencia_Real</th>\n",
              "      <th>CurrentC1</th>\n",
              "      <th>Corriente_X_Motor</th>\n",
              "      <th>Potencia</th>\n",
              "      <th>grupo</th>\n",
              "      <th>redu1</th>\n",
              "      <th>redu2</th>\n",
              "    </tr>\n",
              "  </thead>\n",
              "  <tbody>\n",
              "    <tr>\n",
              "      <th>24</th>\n",
              "      <td>-7.315510</td>\n",
              "      <td>1.785284</td>\n",
              "      <td>0.892642</td>\n",
              "      <td>392.762467</td>\n",
              "      <td>2</td>\n",
              "      <td>129.976424</td>\n",
              "      <td>2.074723</td>\n",
              "    </tr>\n",
              "    <tr>\n",
              "      <th>25</th>\n",
              "      <td>-7.360243</td>\n",
              "      <td>1.810642</td>\n",
              "      <td>0.905321</td>\n",
              "      <td>398.341259</td>\n",
              "      <td>2</td>\n",
              "      <td>124.398005</td>\n",
              "      <td>2.138466</td>\n",
              "    </tr>\n",
              "  </tbody>\n",
              "</table>\n",
              "</div>\n",
              "      <button class=\"colab-df-convert\" onclick=\"convertToInteractive('df-a431e73e-28e2-4167-bcfc-ad1a6ee0e1d0')\"\n",
              "              title=\"Convert this dataframe to an interactive table.\"\n",
              "              style=\"display:none;\">\n",
              "        \n",
              "  <svg xmlns=\"http://www.w3.org/2000/svg\" height=\"24px\"viewBox=\"0 0 24 24\"\n",
              "       width=\"24px\">\n",
              "    <path d=\"M0 0h24v24H0V0z\" fill=\"none\"/>\n",
              "    <path d=\"M18.56 5.44l.94 2.06.94-2.06 2.06-.94-2.06-.94-.94-2.06-.94 2.06-2.06.94zm-11 1L8.5 8.5l.94-2.06 2.06-.94-2.06-.94L8.5 2.5l-.94 2.06-2.06.94zm10 10l.94 2.06.94-2.06 2.06-.94-2.06-.94-.94-2.06-.94 2.06-2.06.94z\"/><path d=\"M17.41 7.96l-1.37-1.37c-.4-.4-.92-.59-1.43-.59-.52 0-1.04.2-1.43.59L10.3 9.45l-7.72 7.72c-.78.78-.78 2.05 0 2.83L4 21.41c.39.39.9.59 1.41.59.51 0 1.02-.2 1.41-.59l7.78-7.78 2.81-2.81c.8-.78.8-2.07 0-2.86zM5.41 20L4 18.59l7.72-7.72 1.47 1.35L5.41 20z\"/>\n",
              "  </svg>\n",
              "      </button>\n",
              "      \n",
              "  <style>\n",
              "    .colab-df-container {\n",
              "      display:flex;\n",
              "      flex-wrap:wrap;\n",
              "      gap: 12px;\n",
              "    }\n",
              "\n",
              "    .colab-df-convert {\n",
              "      background-color: #E8F0FE;\n",
              "      border: none;\n",
              "      border-radius: 50%;\n",
              "      cursor: pointer;\n",
              "      display: none;\n",
              "      fill: #1967D2;\n",
              "      height: 32px;\n",
              "      padding: 0 0 0 0;\n",
              "      width: 32px;\n",
              "    }\n",
              "\n",
              "    .colab-df-convert:hover {\n",
              "      background-color: #E2EBFA;\n",
              "      box-shadow: 0px 1px 2px rgba(60, 64, 67, 0.3), 0px 1px 3px 1px rgba(60, 64, 67, 0.15);\n",
              "      fill: #174EA6;\n",
              "    }\n",
              "\n",
              "    [theme=dark] .colab-df-convert {\n",
              "      background-color: #3B4455;\n",
              "      fill: #D2E3FC;\n",
              "    }\n",
              "\n",
              "    [theme=dark] .colab-df-convert:hover {\n",
              "      background-color: #434B5C;\n",
              "      box-shadow: 0px 1px 3px 1px rgba(0, 0, 0, 0.15);\n",
              "      filter: drop-shadow(0px 1px 2px rgba(0, 0, 0, 0.3));\n",
              "      fill: #FFFFFF;\n",
              "    }\n",
              "  </style>\n",
              "\n",
              "      <script>\n",
              "        const buttonEl =\n",
              "          document.querySelector('#df-a431e73e-28e2-4167-bcfc-ad1a6ee0e1d0 button.colab-df-convert');\n",
              "        buttonEl.style.display =\n",
              "          google.colab.kernel.accessAllowed ? 'block' : 'none';\n",
              "\n",
              "        async function convertToInteractive(key) {\n",
              "          const element = document.querySelector('#df-a431e73e-28e2-4167-bcfc-ad1a6ee0e1d0');\n",
              "          const dataTable =\n",
              "            await google.colab.kernel.invokeFunction('convertToInteractive',\n",
              "                                                     [key], {});\n",
              "          if (!dataTable) return;\n",
              "\n",
              "          const docLinkHtml = 'Like what you see? Visit the ' +\n",
              "            '<a target=\"_blank\" href=https://colab.research.google.com/notebooks/data_table.ipynb>data table notebook</a>'\n",
              "            + ' to learn more about interactive tables.';\n",
              "          element.innerHTML = '';\n",
              "          dataTable['output_type'] = 'display_data';\n",
              "          await google.colab.output.renderOutput(dataTable, element);\n",
              "          const docLink = document.createElement('div');\n",
              "          docLink.innerHTML = docLinkHtml;\n",
              "          element.appendChild(docLink);\n",
              "        }\n",
              "      </script>\n",
              "    </div>\n",
              "  </div>\n",
              "  "
            ]
          },
          "metadata": {},
          "execution_count": 65
        }
      ]
    },
    {
      "cell_type": "code",
      "source": [
        "df3[filtro2] #Apagado"
      ],
      "metadata": {
        "colab": {
          "base_uri": "https://localhost:8080/",
          "height": 112
        },
        "id": "XpqECyNoEtob",
        "outputId": "0e1e9c52-4f9c-49e2-90fd-fbd903609899"
      },
      "execution_count": null,
      "outputs": [
        {
          "output_type": "execute_result",
          "data": {
            "text/plain": [
              "     Frecuencia_Real     CurrentC1  Corriente_X_Motor      Potencia  grupo  \\\n",
              "201              0.0  1.951564e-19       9.757819e-20  4.293441e-17      1   \n",
              "202              0.0  9.757819e-20       4.878910e-20  2.146720e-17      1   \n",
              "\n",
              "          redu1     redu2  \n",
              "201  522.804739 -0.526878  \n",
              "202  522.804739 -0.526878  "
            ],
            "text/html": [
              "\n",
              "  <div id=\"df-f490c26f-7559-47a6-94f3-ab3b845c092d\">\n",
              "    <div class=\"colab-df-container\">\n",
              "      <div>\n",
              "<style scoped>\n",
              "    .dataframe tbody tr th:only-of-type {\n",
              "        vertical-align: middle;\n",
              "    }\n",
              "\n",
              "    .dataframe tbody tr th {\n",
              "        vertical-align: top;\n",
              "    }\n",
              "\n",
              "    .dataframe thead th {\n",
              "        text-align: right;\n",
              "    }\n",
              "</style>\n",
              "<table border=\"1\" class=\"dataframe\">\n",
              "  <thead>\n",
              "    <tr style=\"text-align: right;\">\n",
              "      <th></th>\n",
              "      <th>Frecuencia_Real</th>\n",
              "      <th>CurrentC1</th>\n",
              "      <th>Corriente_X_Motor</th>\n",
              "      <th>Potencia</th>\n",
              "      <th>grupo</th>\n",
              "      <th>redu1</th>\n",
              "      <th>redu2</th>\n",
              "    </tr>\n",
              "  </thead>\n",
              "  <tbody>\n",
              "    <tr>\n",
              "      <th>201</th>\n",
              "      <td>0.0</td>\n",
              "      <td>1.951564e-19</td>\n",
              "      <td>9.757819e-20</td>\n",
              "      <td>4.293441e-17</td>\n",
              "      <td>1</td>\n",
              "      <td>522.804739</td>\n",
              "      <td>-0.526878</td>\n",
              "    </tr>\n",
              "    <tr>\n",
              "      <th>202</th>\n",
              "      <td>0.0</td>\n",
              "      <td>9.757819e-20</td>\n",
              "      <td>4.878910e-20</td>\n",
              "      <td>2.146720e-17</td>\n",
              "      <td>1</td>\n",
              "      <td>522.804739</td>\n",
              "      <td>-0.526878</td>\n",
              "    </tr>\n",
              "  </tbody>\n",
              "</table>\n",
              "</div>\n",
              "      <button class=\"colab-df-convert\" onclick=\"convertToInteractive('df-f490c26f-7559-47a6-94f3-ab3b845c092d')\"\n",
              "              title=\"Convert this dataframe to an interactive table.\"\n",
              "              style=\"display:none;\">\n",
              "        \n",
              "  <svg xmlns=\"http://www.w3.org/2000/svg\" height=\"24px\"viewBox=\"0 0 24 24\"\n",
              "       width=\"24px\">\n",
              "    <path d=\"M0 0h24v24H0V0z\" fill=\"none\"/>\n",
              "    <path d=\"M18.56 5.44l.94 2.06.94-2.06 2.06-.94-2.06-.94-.94-2.06-.94 2.06-2.06.94zm-11 1L8.5 8.5l.94-2.06 2.06-.94-2.06-.94L8.5 2.5l-.94 2.06-2.06.94zm10 10l.94 2.06.94-2.06 2.06-.94-2.06-.94-.94-2.06-.94 2.06-2.06.94z\"/><path d=\"M17.41 7.96l-1.37-1.37c-.4-.4-.92-.59-1.43-.59-.52 0-1.04.2-1.43.59L10.3 9.45l-7.72 7.72c-.78.78-.78 2.05 0 2.83L4 21.41c.39.39.9.59 1.41.59.51 0 1.02-.2 1.41-.59l7.78-7.78 2.81-2.81c.8-.78.8-2.07 0-2.86zM5.41 20L4 18.59l7.72-7.72 1.47 1.35L5.41 20z\"/>\n",
              "  </svg>\n",
              "      </button>\n",
              "      \n",
              "  <style>\n",
              "    .colab-df-container {\n",
              "      display:flex;\n",
              "      flex-wrap:wrap;\n",
              "      gap: 12px;\n",
              "    }\n",
              "\n",
              "    .colab-df-convert {\n",
              "      background-color: #E8F0FE;\n",
              "      border: none;\n",
              "      border-radius: 50%;\n",
              "      cursor: pointer;\n",
              "      display: none;\n",
              "      fill: #1967D2;\n",
              "      height: 32px;\n",
              "      padding: 0 0 0 0;\n",
              "      width: 32px;\n",
              "    }\n",
              "\n",
              "    .colab-df-convert:hover {\n",
              "      background-color: #E2EBFA;\n",
              "      box-shadow: 0px 1px 2px rgba(60, 64, 67, 0.3), 0px 1px 3px 1px rgba(60, 64, 67, 0.15);\n",
              "      fill: #174EA6;\n",
              "    }\n",
              "\n",
              "    [theme=dark] .colab-df-convert {\n",
              "      background-color: #3B4455;\n",
              "      fill: #D2E3FC;\n",
              "    }\n",
              "\n",
              "    [theme=dark] .colab-df-convert:hover {\n",
              "      background-color: #434B5C;\n",
              "      box-shadow: 0px 1px 3px 1px rgba(0, 0, 0, 0.15);\n",
              "      filter: drop-shadow(0px 1px 2px rgba(0, 0, 0, 0.3));\n",
              "      fill: #FFFFFF;\n",
              "    }\n",
              "  </style>\n",
              "\n",
              "      <script>\n",
              "        const buttonEl =\n",
              "          document.querySelector('#df-f490c26f-7559-47a6-94f3-ab3b845c092d button.colab-df-convert');\n",
              "        buttonEl.style.display =\n",
              "          google.colab.kernel.accessAllowed ? 'block' : 'none';\n",
              "\n",
              "        async function convertToInteractive(key) {\n",
              "          const element = document.querySelector('#df-f490c26f-7559-47a6-94f3-ab3b845c092d');\n",
              "          const dataTable =\n",
              "            await google.colab.kernel.invokeFunction('convertToInteractive',\n",
              "                                                     [key], {});\n",
              "          if (!dataTable) return;\n",
              "\n",
              "          const docLinkHtml = 'Like what you see? Visit the ' +\n",
              "            '<a target=\"_blank\" href=https://colab.research.google.com/notebooks/data_table.ipynb>data table notebook</a>'\n",
              "            + ' to learn more about interactive tables.';\n",
              "          element.innerHTML = '';\n",
              "          dataTable['output_type'] = 'display_data';\n",
              "          await google.colab.output.renderOutput(dataTable, element);\n",
              "          const docLink = document.createElement('div');\n",
              "          docLink.innerHTML = docLinkHtml;\n",
              "          element.appendChild(docLink);\n",
              "        }\n",
              "      </script>\n",
              "    </div>\n",
              "  </div>\n",
              "  "
            ]
          },
          "metadata": {},
          "execution_count": 66
        }
      ]
    },
    {
      "cell_type": "code",
      "source": [
        "df3[filtro1]"
      ],
      "metadata": {
        "colab": {
          "base_uri": "https://localhost:8080/",
          "height": 424
        },
        "id": "xKhFhWUbE1sN",
        "outputId": "ce234283-f97e-4c54-b936-81b4f93bd5ff"
      },
      "execution_count": null,
      "outputs": [
        {
          "output_type": "execute_result",
          "data": {
            "text/plain": [
              "     Frecuencia_Real  CurrentC1  Corriente_X_Motor    Potencia  grupo  \\\n",
              "0         -11.717634   2.387277           1.203398  529.495312      0   \n",
              "1         -11.717634   2.386957           1.203398  529.495312      0   \n",
              "2         -11.717634   2.386875           1.203398  529.495312      0   \n",
              "3         -11.717634   2.387250           1.203398  529.495312      0   \n",
              "4         -11.717634   2.386470           1.203398  529.495312      0   \n",
              "..               ...        ...                ...         ...    ...   \n",
              "196       -11.717896   2.401491           1.200746  528.328125      0   \n",
              "197       -11.717634   2.401172           1.200586  528.257812      0   \n",
              "198       -11.717634   2.401019           1.200509  528.224185      0   \n",
              "199       -11.717634   2.401031           1.200586  528.257812      0   \n",
              "200       -11.717634   2.401172           1.200586  528.257812      0   \n",
              "\n",
              "        redu1     redu2  \n",
              "0   -6.827652 -0.011079  \n",
              "1   -6.827650 -0.011079  \n",
              "2   -6.827650 -0.011079  \n",
              "3   -6.827652 -0.011079  \n",
              "4   -6.827648 -0.011080  \n",
              "..        ...       ...  \n",
              "196 -5.660850 -0.030540  \n",
              "197 -5.590549 -0.031536  \n",
              "198 -5.556929 -0.032093  \n",
              "199 -5.590548 -0.031536  \n",
              "200 -5.590549 -0.031536  \n",
              "\n",
              "[199 rows x 7 columns]"
            ],
            "text/html": [
              "\n",
              "  <div id=\"df-509e67cc-3c5b-4448-b6fc-5c2bc04b1790\">\n",
              "    <div class=\"colab-df-container\">\n",
              "      <div>\n",
              "<style scoped>\n",
              "    .dataframe tbody tr th:only-of-type {\n",
              "        vertical-align: middle;\n",
              "    }\n",
              "\n",
              "    .dataframe tbody tr th {\n",
              "        vertical-align: top;\n",
              "    }\n",
              "\n",
              "    .dataframe thead th {\n",
              "        text-align: right;\n",
              "    }\n",
              "</style>\n",
              "<table border=\"1\" class=\"dataframe\">\n",
              "  <thead>\n",
              "    <tr style=\"text-align: right;\">\n",
              "      <th></th>\n",
              "      <th>Frecuencia_Real</th>\n",
              "      <th>CurrentC1</th>\n",
              "      <th>Corriente_X_Motor</th>\n",
              "      <th>Potencia</th>\n",
              "      <th>grupo</th>\n",
              "      <th>redu1</th>\n",
              "      <th>redu2</th>\n",
              "    </tr>\n",
              "  </thead>\n",
              "  <tbody>\n",
              "    <tr>\n",
              "      <th>0</th>\n",
              "      <td>-11.717634</td>\n",
              "      <td>2.387277</td>\n",
              "      <td>1.203398</td>\n",
              "      <td>529.495312</td>\n",
              "      <td>0</td>\n",
              "      <td>-6.827652</td>\n",
              "      <td>-0.011079</td>\n",
              "    </tr>\n",
              "    <tr>\n",
              "      <th>1</th>\n",
              "      <td>-11.717634</td>\n",
              "      <td>2.386957</td>\n",
              "      <td>1.203398</td>\n",
              "      <td>529.495312</td>\n",
              "      <td>0</td>\n",
              "      <td>-6.827650</td>\n",
              "      <td>-0.011079</td>\n",
              "    </tr>\n",
              "    <tr>\n",
              "      <th>2</th>\n",
              "      <td>-11.717634</td>\n",
              "      <td>2.386875</td>\n",
              "      <td>1.203398</td>\n",
              "      <td>529.495312</td>\n",
              "      <td>0</td>\n",
              "      <td>-6.827650</td>\n",
              "      <td>-0.011079</td>\n",
              "    </tr>\n",
              "    <tr>\n",
              "      <th>3</th>\n",
              "      <td>-11.717634</td>\n",
              "      <td>2.387250</td>\n",
              "      <td>1.203398</td>\n",
              "      <td>529.495312</td>\n",
              "      <td>0</td>\n",
              "      <td>-6.827652</td>\n",
              "      <td>-0.011079</td>\n",
              "    </tr>\n",
              "    <tr>\n",
              "      <th>4</th>\n",
              "      <td>-11.717634</td>\n",
              "      <td>2.386470</td>\n",
              "      <td>1.203398</td>\n",
              "      <td>529.495312</td>\n",
              "      <td>0</td>\n",
              "      <td>-6.827648</td>\n",
              "      <td>-0.011080</td>\n",
              "    </tr>\n",
              "    <tr>\n",
              "      <th>...</th>\n",
              "      <td>...</td>\n",
              "      <td>...</td>\n",
              "      <td>...</td>\n",
              "      <td>...</td>\n",
              "      <td>...</td>\n",
              "      <td>...</td>\n",
              "      <td>...</td>\n",
              "    </tr>\n",
              "    <tr>\n",
              "      <th>196</th>\n",
              "      <td>-11.717896</td>\n",
              "      <td>2.401491</td>\n",
              "      <td>1.200746</td>\n",
              "      <td>528.328125</td>\n",
              "      <td>0</td>\n",
              "      <td>-5.660850</td>\n",
              "      <td>-0.030540</td>\n",
              "    </tr>\n",
              "    <tr>\n",
              "      <th>197</th>\n",
              "      <td>-11.717634</td>\n",
              "      <td>2.401172</td>\n",
              "      <td>1.200586</td>\n",
              "      <td>528.257812</td>\n",
              "      <td>0</td>\n",
              "      <td>-5.590549</td>\n",
              "      <td>-0.031536</td>\n",
              "    </tr>\n",
              "    <tr>\n",
              "      <th>198</th>\n",
              "      <td>-11.717634</td>\n",
              "      <td>2.401019</td>\n",
              "      <td>1.200509</td>\n",
              "      <td>528.224185</td>\n",
              "      <td>0</td>\n",
              "      <td>-5.556929</td>\n",
              "      <td>-0.032093</td>\n",
              "    </tr>\n",
              "    <tr>\n",
              "      <th>199</th>\n",
              "      <td>-11.717634</td>\n",
              "      <td>2.401031</td>\n",
              "      <td>1.200586</td>\n",
              "      <td>528.257812</td>\n",
              "      <td>0</td>\n",
              "      <td>-5.590548</td>\n",
              "      <td>-0.031536</td>\n",
              "    </tr>\n",
              "    <tr>\n",
              "      <th>200</th>\n",
              "      <td>-11.717634</td>\n",
              "      <td>2.401172</td>\n",
              "      <td>1.200586</td>\n",
              "      <td>528.257812</td>\n",
              "      <td>0</td>\n",
              "      <td>-5.590549</td>\n",
              "      <td>-0.031536</td>\n",
              "    </tr>\n",
              "  </tbody>\n",
              "</table>\n",
              "<p>199 rows × 7 columns</p>\n",
              "</div>\n",
              "      <button class=\"colab-df-convert\" onclick=\"convertToInteractive('df-509e67cc-3c5b-4448-b6fc-5c2bc04b1790')\"\n",
              "              title=\"Convert this dataframe to an interactive table.\"\n",
              "              style=\"display:none;\">\n",
              "        \n",
              "  <svg xmlns=\"http://www.w3.org/2000/svg\" height=\"24px\"viewBox=\"0 0 24 24\"\n",
              "       width=\"24px\">\n",
              "    <path d=\"M0 0h24v24H0V0z\" fill=\"none\"/>\n",
              "    <path d=\"M18.56 5.44l.94 2.06.94-2.06 2.06-.94-2.06-.94-.94-2.06-.94 2.06-2.06.94zm-11 1L8.5 8.5l.94-2.06 2.06-.94-2.06-.94L8.5 2.5l-.94 2.06-2.06.94zm10 10l.94 2.06.94-2.06 2.06-.94-2.06-.94-.94-2.06-.94 2.06-2.06.94z\"/><path d=\"M17.41 7.96l-1.37-1.37c-.4-.4-.92-.59-1.43-.59-.52 0-1.04.2-1.43.59L10.3 9.45l-7.72 7.72c-.78.78-.78 2.05 0 2.83L4 21.41c.39.39.9.59 1.41.59.51 0 1.02-.2 1.41-.59l7.78-7.78 2.81-2.81c.8-.78.8-2.07 0-2.86zM5.41 20L4 18.59l7.72-7.72 1.47 1.35L5.41 20z\"/>\n",
              "  </svg>\n",
              "      </button>\n",
              "      \n",
              "  <style>\n",
              "    .colab-df-container {\n",
              "      display:flex;\n",
              "      flex-wrap:wrap;\n",
              "      gap: 12px;\n",
              "    }\n",
              "\n",
              "    .colab-df-convert {\n",
              "      background-color: #E8F0FE;\n",
              "      border: none;\n",
              "      border-radius: 50%;\n",
              "      cursor: pointer;\n",
              "      display: none;\n",
              "      fill: #1967D2;\n",
              "      height: 32px;\n",
              "      padding: 0 0 0 0;\n",
              "      width: 32px;\n",
              "    }\n",
              "\n",
              "    .colab-df-convert:hover {\n",
              "      background-color: #E2EBFA;\n",
              "      box-shadow: 0px 1px 2px rgba(60, 64, 67, 0.3), 0px 1px 3px 1px rgba(60, 64, 67, 0.15);\n",
              "      fill: #174EA6;\n",
              "    }\n",
              "\n",
              "    [theme=dark] .colab-df-convert {\n",
              "      background-color: #3B4455;\n",
              "      fill: #D2E3FC;\n",
              "    }\n",
              "\n",
              "    [theme=dark] .colab-df-convert:hover {\n",
              "      background-color: #434B5C;\n",
              "      box-shadow: 0px 1px 3px 1px rgba(0, 0, 0, 0.15);\n",
              "      filter: drop-shadow(0px 1px 2px rgba(0, 0, 0, 0.3));\n",
              "      fill: #FFFFFF;\n",
              "    }\n",
              "  </style>\n",
              "\n",
              "      <script>\n",
              "        const buttonEl =\n",
              "          document.querySelector('#df-509e67cc-3c5b-4448-b6fc-5c2bc04b1790 button.colab-df-convert');\n",
              "        buttonEl.style.display =\n",
              "          google.colab.kernel.accessAllowed ? 'block' : 'none';\n",
              "\n",
              "        async function convertToInteractive(key) {\n",
              "          const element = document.querySelector('#df-509e67cc-3c5b-4448-b6fc-5c2bc04b1790');\n",
              "          const dataTable =\n",
              "            await google.colab.kernel.invokeFunction('convertToInteractive',\n",
              "                                                     [key], {});\n",
              "          if (!dataTable) return;\n",
              "\n",
              "          const docLinkHtml = 'Like what you see? Visit the ' +\n",
              "            '<a target=\"_blank\" href=https://colab.research.google.com/notebooks/data_table.ipynb>data table notebook</a>'\n",
              "            + ' to learn more about interactive tables.';\n",
              "          element.innerHTML = '';\n",
              "          dataTable['output_type'] = 'display_data';\n",
              "          await google.colab.output.renderOutput(dataTable, element);\n",
              "          const docLink = document.createElement('div');\n",
              "          docLink.innerHTML = docLinkHtml;\n",
              "          element.appendChild(docLink);\n",
              "        }\n",
              "      </script>\n",
              "    </div>\n",
              "  </div>\n",
              "  "
            ]
          },
          "metadata": {},
          "execution_count": 67
        }
      ]
    },
    {
      "cell_type": "code",
      "source": [
        "from sklearn.metrics import silhouette_score\n",
        "\n",
        "kmeans_per_k = [KMeans(n_clusters=k, random_state=42).fit(X)\n",
        "                for k in range(1, 10)]\n",
        "silhouette_scores = [silhouette_score(X, model.labels_)\n",
        "                     for model in kmeans_per_k[1:]]\n",
        "plt.figure(figsize=(8, 3))\n",
        "plt.plot(range(2, 10), silhouette_scores, \"bo-\")\n",
        "plt.xlabel(\"$k$\", fontsize=14)\n",
        "plt.ylabel(\"Silhouette score\", fontsize=14)\n",
        "plt.show()\n"
      ],
      "metadata": {
        "colab": {
          "base_uri": "https://localhost:8080/",
          "height": 230
        },
        "id": "w3HG5LFivjG4",
        "outputId": "4d00bf0e-6218-457d-ca92-95924e781051"
      },
      "execution_count": null,
      "outputs": [
        {
          "output_type": "display_data",
          "data": {
            "text/plain": [
              "<Figure size 576x216 with 1 Axes>"
            ],
            "image/png": "[encoded data removed]"
          },
          "metadata": {
            "needs_background": "light"
          }
        }
      ]
    },
    {
      "cell_type": "code",
      "source": [
        "from sklearn.metrics import silhouette_samples\n",
        "from matplotlib.ticker import FixedLocator, FixedFormatter\n",
        "import matplotlib as mpl\n",
        "\n",
        "plt.figure(figsize=(11, 9))\n",
        "\n",
        "for k in (2 ,3, 4, 5):\n",
        "    plt.subplot(2, 2, k - 1)\n",
        "    \n",
        "    y_pred = kmeans_per_k[k - 1].labels_\n",
        "    silhouette_coefficients = silhouette_samples(X, y_pred)\n",
        "\n",
        "    padding = len(X) // 30\n",
        "    pos = padding\n",
        "    ticks = []\n",
        "    for i in range(k):\n",
        "        coeffs = silhouette_coefficients[y_pred == i]\n",
        "        coeffs.sort()\n",
        "\n",
        "        color = mpl.cm.Spectral(i / k)\n",
        "        plt.fill_betweenx(np.arange(pos, pos + len(coeffs)), 0, coeffs,\n",
        "                          facecolor=color, edgecolor=color, alpha=0.7)\n",
        "        ticks.append(pos + len(coeffs) // 2)\n",
        "        pos += len(coeffs) + padding\n",
        "\n",
        "    plt.gca().yaxis.set_major_locator(FixedLocator(ticks))\n",
        "    plt.gca().yaxis.set_major_formatter(FixedFormatter(range(k)))\n",
        "    if k in (3, 5):\n",
        "        plt.ylabel(\"Cluster\")\n",
        "    \n",
        "    if k in (5, 6):\n",
        "        plt.gca().set_xticks([-0.1, 0, 0.2, 0.4, 0.6, 0.8, 1])\n",
        "        plt.xlabel(\"Silhouette Coefficient\")\n",
        "    else:\n",
        "        plt.tick_params(labelbottom=False)\n",
        "\n",
        "    plt.axvline(x=silhouette_scores[k - 2], color=\"red\", linestyle=\"--\")\n",
        "    plt.title(\"$k={}$\".format(k), fontsize=16)\n",
        "\n",
        "plt.show()"
      ],
      "metadata": {
        "colab": {
          "base_uri": "https://localhost:8080/",
          "height": 570
        },
        "id": "oGv5whAjwobD",
        "outputId": "f1d0795a-a907-4577-bad5-1c38652c7171"
      },
      "execution_count": null,
      "outputs": [
        {
          "output_type": "display_data",
          "data": {
            "text/plain": [
              "<Figure size 792x648 with 4 Axes>"
            ],
            "image/png": "[encoded data removed]"
          },
          "metadata": {
            "needs_background": "light"
          }
        }
      ]
    },
    {
      "cell_type": "code",
      "source": [
        "from numpy.random import RandomState\n",
        "def separacionDatos(X,y, s= 0.5,r = 32, t = 3):\n",
        "    #Aplica sólo para clasificación binaria\n",
        "    #X son todos los features, y todas las categorías, s indica qué porcentaje del total de\n",
        "    #las fallas (1) queremos tener en el train set, y r la semilla random, esto para garantizar la \n",
        "    #reproducibilidad\n",
        "\n",
        "\n",
        "    rs = RandomState(r) #Iniciamos semilla\n",
        "    index = y[y[y.columns[0]] == 1].index\n",
        "    c = round(len(index)*s) #Cuenta cuántos datos sacaremos con 1\n",
        "    cc = len(index) - 2*c #Para dividir el set completo\n",
        "    if cc == 0:\n",
        "      cc = t\n",
        "    ran_index = rs.choice(index, c) #Saca c índices de manera aleatoria de todos los que tienen y = 1\n",
        "\n",
        "    #Extraemos datos\n",
        "    X_train = X.filter(items = ran_index, axis = 0) \n",
        "    y_train = y.filter(items = ran_index, axis = 0)\n",
        "    ran_index = list(ran_index)\n",
        "\n",
        "    #Pasamos los que faltan al test\n",
        "    index1 = [i for i in list(index) if i not in ran_index]\n",
        "    X_test = X.filter(items = index1, axis = 0)\n",
        "    y_test = y.filter(items = index1, axis = 0)\n",
        "    X = X.drop(index)\n",
        "    y = y.drop(index)\n",
        "\n",
        "    #Rellenamos ahora con los 2\n",
        "    index = y[y[y.columns[0]] == 2].index\n",
        "    ran_index = rs.choice(index, c) #Saca c índices de manera aleatoria de todos los que tienen y = 1\n",
        "\n",
        "    X_train = pd.merge(X_train, X.filter(items = ran_index, axis = 0) , how = 'outer', on=list(X.columns))\n",
        "    y_train = pd.merge(y_train, y.filter(items = ran_index, axis = 0), how = 'outer', on=list(y.columns))\n",
        "    \n",
        "    ran_index = list(ran_index)\n",
        "    index1 = [i for i in list(index) if i not in ran_index]\n",
        "\n",
        "    X_test = pd.merge(X_test, X.filter(items = index1, axis = 0), how = 'outer', on=list(X.columns))\n",
        "    y_test = pd.merge(y_test, y.filter(items = index1, axis = 0), how = 'outer', on=list(y.columns))\n",
        "    \n",
        "    X = X.drop(index)\n",
        "    y = y.drop(index)\n",
        "\n",
        "    #Rellenamos las particiones\n",
        "    index = y[y[y.columns[0]] == 0].index\n",
        "    ran_index = rs.choice(index, cc) \n",
        "    X_train = pd.merge(X_train, X.filter(items = ran_index, axis = 0) , how = 'outer', on=list(X.columns))\n",
        "    y_train = pd.merge(y_train, y.filter(items = ran_index, axis = 0), how = 'outer', on=list(y.columns))\n",
        "    \n",
        "    ran_index = list(ran_index)\n",
        "    index1 = [i for i in list(index) if i not in ran_index]\n",
        "\n",
        "    X_test = pd.merge(X_test, X.filter(items = index1, axis = 0), how = 'outer', on=list(X.columns))\n",
        "    y_test = pd.merge(y_test, y.filter(items = index1, axis = 0), how = 'outer', on=list(y.columns))\n",
        "    return(pd.DataFrame(X_train), pd.DataFrame(X_test), pd.DataFrame(y_train).values.ravel(), pd.DataFrame(y_test).values.ravel())\n"
      ],
      "metadata": {
        "id": "hRH_3jd1xGzS"
      },
      "execution_count": null,
      "outputs": []
    },
    {
      "cell_type": "code",
      "source": [
        "from sklearn.linear_model import LogisticRegression as LG\n",
        "datos = df3.copy()\n",
        "X = datos[[\"redu1\", \"redu2\"]]\n",
        "y = datos[[\"grupo\"]]\n",
        "lg = LG(max_iter = 1000, multi_class = 'multinomial')\n",
        "\n",
        "valid = Algoritmo(lg,X,y)\n",
        "\n",
        "X_train, X_test, y_train, y_test = separacionDatos(X,y, s = 0.5)\n",
        "#lg.fit(X_train, y_train)\n",
        "#final_pred = lg.predict(X_test)\n",
        "param_grid = [{'C': [i for i in range(1,101,10)]}] #Cambiar los valores del range\n",
        "final_pred = valid.hpTunningGSCV(LG(max_iter=1000, multi_class = 'multinomial')\n",
        "            ,param_grid,X_train,y_train, X_test,name = 'modelo final', CV = 3)\n",
        "valid.evaluacionClasificacionMulti(y_test = y_test, final_pred = final_pred,\n",
        "                                   labs = [0, 1, 2]) #Imprime matriz de confusión\n",
        "\n"
      ],
      "metadata": {
        "colab": {
          "base_uri": "https://localhost:8080/",
          "height": 1000
        },
        "id": "Go_PJI5wRZlc",
        "outputId": "3be93a8d-c185-4135-9727-b5b20387480e"
      },
      "execution_count": null,
      "outputs": [
        {
          "output_type": "stream",
          "name": "stderr",
          "text": [
            "/usr/local/lib/python3.8/dist-packages/sklearn/model_selection/_split.py:676: UserWarning: The least populated class in y has only 1 members, which is less than n_splits=3.\n",
            "  warnings.warn(\n"
          ]
        },
        {
          "output_type": "stream",
          "name": "stdout",
          "text": [
            "{'C': 1}\n",
            "LogisticRegression(C=1, max_iter=1000, multi_class='multinomial')\n",
            "Matrices de confusión: \n",
            "[[[  2   0]\n",
            "  [  0 196]]\n",
            "\n",
            " [[197   0]\n",
            "  [  0   1]]\n",
            "\n",
            " [[197   0]\n",
            "  [  0   1]]]\n",
            "Promedio de matrices de confusión: \n",
            "[[132.   0.]\n",
            " [  0.  66.]]\n",
            "Accuracy \t Recall\n",
            "Precision \t F1\n",
            "[[1. 1.]\n",
            " [1. 1.]]\n"
          ]
        },
        {
          "output_type": "display_data",
          "data": {
            "text/plain": [
              "<Figure size 720x720 with 4 Axes>"
            ],
            "image/png": "[encoded data removed]"
          },
          "metadata": {
            "needs_background": "light"
          }
        },
        {
          "output_type": "display_data",
          "data": {
            "text/plain": [
              "<Figure size 720x720 with 4 Axes>"
            ],
            "image/png": "[encoded data removed]"
          },
          "metadata": {
            "needs_background": "light"
          }
        }
      ]
    },
    {
      "cell_type": "code",
      "source": [
        "y_train"
      ],
      "metadata": {
        "colab": {
          "base_uri": "https://localhost:8080/"
        },
        "id": "7quzWJHf5eEF",
        "outputId": "5b2d2df5-8a38-4940-f6d3-7303fb0f49a9"
      },
      "execution_count": null,
      "outputs": [
        {
          "output_type": "execute_result",
          "data": {
            "text/plain": [
              "array([1, 2, 0, 0, 0], dtype=int32)"
            ]
          },
          "metadata": {},
          "execution_count": 72
        }
      ]
    },
    {
      "cell_type": "code",
      "source": [
        "y_test"
      ],
      "metadata": {
        "colab": {
          "base_uri": "https://localhost:8080/"
        },
        "id": "SfBsWeCuzpbM",
        "outputId": "e35130da-6268-43b3-80a4-da699fc64f36"
      },
      "execution_count": null,
      "outputs": [
        {
          "output_type": "execute_result",
          "data": {
            "text/plain": [
              "array([1, 2, 0, 0, 0, 0, 0, 0, 0, 0, 0, 0, 0, 0, 0, 0, 0, 0, 0, 0, 0, 0,\n",
              "       0, 0, 0, 0, 0, 0, 0, 0, 0, 0, 0, 0, 0, 0, 0, 0, 0, 0, 0, 0, 0, 0,\n",
              "       0, 0, 0, 0, 0, 0, 0, 0, 0, 0, 0, 0, 0, 0, 0, 0, 0, 0, 0, 0, 0, 0,\n",
              "       0, 0, 0, 0, 0, 0, 0, 0, 0, 0, 0, 0, 0, 0, 0, 0, 0, 0, 0, 0, 0, 0,\n",
              "       0, 0, 0, 0, 0, 0, 0, 0, 0, 0, 0, 0, 0, 0, 0, 0, 0, 0, 0, 0, 0, 0,\n",
              "       0, 0, 0, 0, 0, 0, 0, 0, 0, 0, 0, 0, 0, 0, 0, 0, 0, 0, 0, 0, 0, 0,\n",
              "       0, 0, 0, 0, 0, 0, 0, 0, 0, 0, 0, 0, 0, 0, 0, 0, 0, 0, 0, 0, 0, 0,\n",
              "       0, 0, 0, 0, 0, 0, 0, 0, 0, 0, 0, 0, 0, 0, 0, 0, 0, 0, 0, 0, 0, 0,\n",
              "       0, 0, 0, 0, 0, 0, 0, 0, 0, 0, 0, 0, 0, 0, 0, 0, 0, 0, 0, 0, 0, 0],\n",
              "      dtype=int32)"
            ]
          },
          "metadata": {},
          "execution_count": 73
        }
      ]
    },
    {
      "cell_type": "code",
      "source": [
        "final_pred"
      ],
      "metadata": {
        "id": "Km6pTJenijha",
        "colab": {
          "base_uri": "https://localhost:8080/"
        },
        "outputId": "db47f009-13ac-4737-b041-65a7c7f7cd85"
      },
      "execution_count": null,
      "outputs": [
        {
          "output_type": "execute_result",
          "data": {
            "text/plain": [
              "array([1, 2, 0, 0, 0, 0, 0, 0, 0, 0, 0, 0, 0, 0, 0, 0, 0, 0, 0, 0, 0, 0,\n",
              "       0, 0, 0, 0, 0, 0, 0, 0, 0, 0, 0, 0, 0, 0, 0, 0, 0, 0, 0, 0, 0, 0,\n",
              "       0, 0, 0, 0, 0, 0, 0, 0, 0, 0, 0, 0, 0, 0, 0, 0, 0, 0, 0, 0, 0, 0,\n",
              "       0, 0, 0, 0, 0, 0, 0, 0, 0, 0, 0, 0, 0, 0, 0, 0, 0, 0, 0, 0, 0, 0,\n",
              "       0, 0, 0, 0, 0, 0, 0, 0, 0, 0, 0, 0, 0, 0, 0, 0, 0, 0, 0, 0, 0, 0,\n",
              "       0, 0, 0, 0, 0, 0, 0, 0, 0, 0, 0, 0, 0, 0, 0, 0, 0, 0, 0, 0, 0, 0,\n",
              "       0, 0, 0, 0, 0, 0, 0, 0, 0, 0, 0, 0, 0, 0, 0, 0, 0, 0, 0, 0, 0, 0,\n",
              "       0, 0, 0, 0, 0, 0, 0, 0, 0, 0, 0, 0, 0, 0, 0, 0, 0, 0, 0, 0, 0, 0,\n",
              "       0, 0, 0, 0, 0, 0, 0, 0, 0, 0, 0, 0, 0, 0, 0, 0, 0, 0, 0, 0, 0, 0],\n",
              "      dtype=int32)"
            ]
          },
          "metadata": {},
          "execution_count": 74
        }
      ]
    }
  ],
  "metadata": {
    "kernelspec": {
      "display_name": "Python 3.9.12 ('comp_vis')",
      "language": "python",
      "name": "python3"
    },
    "language_info": {
      "codemirror_mode": {
        "name": "ipython",
        "version": 3
      },
      "file_extension": ".py",
      "mimetype": "text/x-python",
      "name": "python",
      "nbconvert_exporter": "python",
      "pygments_lexer": "ipython3",
      "version": "3.9.12"
    },
    "orig_nbformat": 4,
    "vscode": {
      "interpreter": {
        "hash": "fb43802a9e24dd0ac1a3e4ae64ce3b8bbed6e5544a793ee853280e363f3b4d84"
      }
    },
    "colab": {
      "provenance": []
    }
  },
  "nbformat": 4,
  "nbformat_minor": 0
}
